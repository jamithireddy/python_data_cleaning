{
 "metadata": {
  "language_info": {
   "codemirror_mode": {
    "name": "ipython",
    "version": 3
   },
   "file_extension": ".py",
   "mimetype": "text/x-python",
   "name": "python",
   "nbconvert_exporter": "python",
   "pygments_lexer": "ipython3",
   "version": "3.8.5"
  },
  "orig_nbformat": 2,
  "kernelspec": {
   "name": "python385jvsc74a57bd08c4a8b360c0157dfe26207fb9fdfcde646f5420e94cd86b887b553c73308aa1b",
   "display_name": "Python 3.8.5 64-bit ('base': conda)"
  }
 },
 "nbformat": 4,
 "nbformat_minor": 2,
 "cells": [
  {
   "source": [
    "<h1><center> Python Data Cleaning Cookbook</center>"
   ],
   "cell_type": "markdown",
   "metadata": {}
  },
  {
   "source": [
    "<h2><center>Chapter 1</center</h2>\n"
   ],
   "cell_type": "markdown",
   "metadata": {}
  },
  {
   "cell_type": "code",
   "execution_count": 2,
   "metadata": {},
   "outputs": [],
   "source": [
    "# Importing a file from CSV \n",
    "import pandas as pd \n",
    "pd.options.display.float_format='{:,.2f}'.format    # Setting the display option of float values as 2\n",
    "pd.set_option('display.width',85)       #Setting the width of columns as a standard width\n",
    "pd.set_option('display.max_columns',8)      #Setting to display only 8 columns\n"
   ]
  },
  {
   "cell_type": "code",
   "execution_count": 3,
   "metadata": {},
   "outputs": [],
   "source": [
    "#Importing tkniter library to dynamically choose the file rather than coding the path\n",
    "import os\n",
    "import sys\n",
    "import tkinter as tk\n",
    "from tkinter import filedialog"
   ]
  },
  {
   "cell_type": "code",
   "execution_count": 4,
   "metadata": {},
   "outputs": [],
   "source": [
    "root=tk.Tk()\n",
    "root.withdraw()\n",
    "file1=filedialog.askopenfilename(title=\"Browse the required file...\")"
   ]
  },
  {
   "cell_type": "code",
   "execution_count": 5,
   "metadata": {},
   "outputs": [],
   "source": [
    "# Importing the CSV file, Setting the names of the columns and skipping the column headers in the csv file, Parsing the columns \"Month and Year\" as date \"month_year\"\n",
    "landtemps=pd.read_csv(file1,names=['stationid','year','month','avgtemp','latitude','longitude','elevation','station','countryid','country'],skiprows=1,\n",
    "    parse_dates=[['month','year']])"
   ]
  },
  {
   "cell_type": "code",
   "execution_count": 16,
   "metadata": {},
   "outputs": [
    {
     "output_type": "stream",
     "name": "stdout",
     "text": [
      "  measuredate    stationid  avgtemp  latitude  ...  elevation           station  \\\n0  2000-04-01  USS0010K01S     5.27     39.90  ...   2,773.70     INDIAN_CANYON   \n1  1940-05-01  CI000085406    18.04    -18.35  ...      58.00             ARICA   \n2  2013-12-01  USC00036376     6.22     34.37  ...      61.00     SAINT_CHARLES   \n3  1963-02-01  ASN00024002    22.93    -34.28  ...      65.50  BERRI_IRRIGATION   \n4  2001-11-01  ASN00028007      nan    -14.78  ...      79.40          MUSGRAVE   \n5  1991-04-01  USW00024151     5.59     42.15  ...   1,362.50        MALAD_CITY   \n6  1993-12-01  RSM00022641   -10.17     63.90  ...      13.00             ONEGA   \n\n  countryid        country  \n0        US  United States  \n1        CI          Chile  \n2        US  United States  \n3        AS      Australia  \n4        AS      Australia  \n5        US  United States  \n6        RS         Russia  \n\n[7 rows x 9 columns]\n\n\nData Types for the dataframe:\nmeasuredate    datetime64[ns]\nstationid              object\navgtemp               float64\nlatitude              float64\nlongitude             float64\nelevation             float64\nstation                object\ncountryid              object\ncountry                object\ndtype: object\n"
     ]
    }
   ],
   "source": [
    "print(landtemps.head(7))    # To show the first 7 rows of the data.\n",
    "print(\"\\n\\nData Types for the dataframe:\")\n",
    "print(landtemps.dtypes)     # To show the data types of all columns"
   ]
  },
  {
   "cell_type": "code",
   "execution_count": 17,
   "metadata": {},
   "outputs": [
    {
     "output_type": "stream",
     "name": "stdout",
     "text": [
      "measuredate    datetime64[ns]\nstationid              object\navgtemp               float64\nlatitude              float64\nlongitude             float64\nelevation             float64\nstation                object\ncountryid              object\ncountry                object\ndtype: object\n\n\nData Types for the renamed df:\ncount   85,554.00\nmean        10.92\nstd         11.52\nmin        -70.70\n25%          3.46\n50%         12.22\n75%         19.57\nmax         39.95\nName: avgtemp, dtype: float64\n"
     ]
    }
   ],
   "source": [
    "landtemps.rename(columns={'month_year':'measuredate'},inplace=True)     # Renaming the Column \"month_year\" to \"measuredate\"\n",
    "print(landtemps.dtypes)\n",
    "print(\"\\n\\nData Types for the renamed df:\")\n",
    "print(landtemps.avgtemp.describe())"
   ]
  },
  {
   "cell_type": "code",
   "execution_count": 22,
   "metadata": {},
   "outputs": [
    {
     "output_type": "stream",
     "name": "stdout",
     "text": [
      "measuredate        0\nstationid          0\navgtemp        14446\nlatitude           0\nlongitude          0\nelevation          0\nstation            0\ncountryid          0\ncountry            5\ndtype: int64\n\n\nThe dimensions of the existing dataframe are:\n(100000, 9)\n"
     ]
    }
   ],
   "source": [
    "print(landtemps.isnull().sum())       # To return any NULL values in any of the columns\n",
    "print(\"\\n\\nThe dimensions of the existing dataframe are:\")\n",
    "print(landtemps.shape)      # To return the dimensions of the dataframe"
   ]
  },
  {
   "cell_type": "code",
   "execution_count": 24,
   "metadata": {},
   "outputs": [
    {
     "output_type": "stream",
     "name": "stdout",
     "text": [
      "The dimensions of the dataframe after dropping Null values:\n(85554, 9)\n"
     ]
    }
   ],
   "source": [
    "landtemps.dropna(subset=['avgtemp'],inplace=True)       # Dropping all the rows with NULL value in the column \"AVGTEMP\"\n",
    "print(\"The dimensions of the dataframe after dropping Null values:\")\n",
    "print(landtemps.shape) "
   ]
  },
  {
   "cell_type": "code",
   "execution_count": null,
   "metadata": {},
   "outputs": [],
   "source": []
  }
 ]
}