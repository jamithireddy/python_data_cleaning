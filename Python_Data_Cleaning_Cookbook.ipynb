{
 "metadata": {
  "language_info": {
   "codemirror_mode": {
    "name": "ipython",
    "version": 3
   },
   "file_extension": ".py",
   "mimetype": "text/x-python",
   "name": "python",
   "nbconvert_exporter": "python",
   "pygments_lexer": "ipython3",
   "version": "3.8.5"
  },
  "orig_nbformat": 2,
  "kernelspec": {
   "name": "python385jvsc74a57bd08c4a8b360c0157dfe26207fb9fdfcde646f5420e94cd86b887b553c73308aa1b",
   "display_name": "Python 3.8.5 64-bit ('base': conda)"
  }
 },
 "nbformat": 4,
 "nbformat_minor": 2,
 "cells": [
  {
   "source": [
    "<h1><center> Python Data Cleaning Cookbook</center>"
   ],
   "cell_type": "markdown",
   "metadata": {}
  },
  {
   "source": [
    "<h2><center>Chapter 1</center</h2>\n"
   ],
   "cell_type": "markdown",
   "metadata": {}
  },
  {
   "cell_type": "code",
   "execution_count": 19,
   "metadata": {},
   "outputs": [],
   "source": [
    "# Importing a file from CSV \n",
    "import pandas as pd \n",
    "pd.options.display.float_format='{:,.2f}'.format    # Setting the display option of float values as 2\n",
    "pd.set_option('display.width',85)       #Setting the width of columns as a standard width\n",
    "pd.set_option('display.max_columns',8)      #Setting to display only 8 columns\n"
   ]
  },
  {
   "cell_type": "code",
   "execution_count": 3,
   "metadata": {},
   "outputs": [],
   "source": [
    "#Importing tkniter library to dynamically choose the file rather than coding the path\n",
    "import os\n",
    "import sys\n",
    "import tkinter as tk\n",
    "from tkinter import filedialog"
   ]
  },
  {
   "cell_type": "code",
   "execution_count": 4,
   "metadata": {},
   "outputs": [],
   "source": [
    "root=tk.Tk()\n",
    "root.withdraw()\n",
    "file1=filedialog.askopenfilename(title=\"Browse the required file...\")"
   ]
  },
  {
   "cell_type": "code",
   "execution_count": 5,
   "metadata": {},
   "outputs": [],
   "source": [
    "# Importing the CSV file, Setting the names of the columns and skipping the column headers in the csv file, Parsing the columns \"Month and Year\" as date \"month_year\"\n",
    "landtemps=pd.read_csv(file1,names=['stationid','year','month','avgtemp','latitude','longitude','elevation','station','countryid','country'],skiprows=1,\n",
    "    parse_dates=[['month','year']])"
   ]
  },
  {
   "cell_type": "code",
   "execution_count": 16,
   "metadata": {},
   "outputs": [
    {
     "output_type": "stream",
     "name": "stdout",
     "text": [
      "  measuredate    stationid  avgtemp  latitude  ...  elevation           station  \\\n0  2000-04-01  USS0010K01S     5.27     39.90  ...   2,773.70     INDIAN_CANYON   \n1  1940-05-01  CI000085406    18.04    -18.35  ...      58.00             ARICA   \n2  2013-12-01  USC00036376     6.22     34.37  ...      61.00     SAINT_CHARLES   \n3  1963-02-01  ASN00024002    22.93    -34.28  ...      65.50  BERRI_IRRIGATION   \n4  2001-11-01  ASN00028007      nan    -14.78  ...      79.40          MUSGRAVE   \n5  1991-04-01  USW00024151     5.59     42.15  ...   1,362.50        MALAD_CITY   \n6  1993-12-01  RSM00022641   -10.17     63.90  ...      13.00             ONEGA   \n\n  countryid        country  \n0        US  United States  \n1        CI          Chile  \n2        US  United States  \n3        AS      Australia  \n4        AS      Australia  \n5        US  United States  \n6        RS         Russia  \n\n[7 rows x 9 columns]\n\n\nData Types for the dataframe:\nmeasuredate    datetime64[ns]\nstationid              object\navgtemp               float64\nlatitude              float64\nlongitude             float64\nelevation             float64\nstation                object\ncountryid              object\ncountry                object\ndtype: object\n"
     ]
    }
   ],
   "source": [
    "print(landtemps.head(7))    # To show the first 7 rows of the data.\n",
    "print(\"\\n\\nData Types for the dataframe:\")\n",
    "print(landtemps.dtypes)     # To show the data types of all columns"
   ]
  },
  {
   "cell_type": "code",
   "execution_count": 17,
   "metadata": {},
   "outputs": [
    {
     "output_type": "stream",
     "name": "stdout",
     "text": [
      "measuredate    datetime64[ns]\nstationid              object\navgtemp               float64\nlatitude              float64\nlongitude             float64\nelevation             float64\nstation                object\ncountryid              object\ncountry                object\ndtype: object\n\n\nData Types for the renamed df:\ncount   85,554.00\nmean        10.92\nstd         11.52\nmin        -70.70\n25%          3.46\n50%         12.22\n75%         19.57\nmax         39.95\nName: avgtemp, dtype: float64\n"
     ]
    }
   ],
   "source": [
    "landtemps.rename(columns={'month_year':'measuredate'},inplace=True)     # Renaming the Column \"month_year\" to \"measuredate\"\n",
    "print(landtemps.dtypes)\n",
    "print(\"\\n\\nData Types for the renamed df:\")\n",
    "print(landtemps.avgtemp.describe())"
   ]
  },
  {
   "cell_type": "code",
   "execution_count": 22,
   "metadata": {},
   "outputs": [
    {
     "output_type": "stream",
     "name": "stdout",
     "text": [
      "measuredate        0\nstationid          0\navgtemp        14446\nlatitude           0\nlongitude          0\nelevation          0\nstation            0\ncountryid          0\ncountry            5\ndtype: int64\n\n\nThe dimensions of the existing dataframe are:\n(100000, 9)\n"
     ]
    }
   ],
   "source": [
    "print(landtemps.isnull().sum())       # To return any NULL values in any of the columns\n",
    "print(\"\\n\\nThe dimensions of the existing dataframe are:\")\n",
    "print(landtemps.shape)      # To return the dimensions of the dataframe"
   ]
  },
  {
   "cell_type": "code",
   "execution_count": 24,
   "metadata": {},
   "outputs": [
    {
     "output_type": "stream",
     "name": "stdout",
     "text": [
      "The dimensions of the dataframe after dropping Null values:\n(85554, 9)\n"
     ]
    }
   ],
   "source": [
    "landtemps.dropna(subset=['avgtemp'],inplace=True)       # Dropping all the rows with NULL value in the column \"AVGTEMP\"\n",
    "print(\"The dimensions of the dataframe after dropping Null values:\")\n",
    "print(landtemps.shape) "
   ]
  },
  {
   "source": [
    "<h3> Importing Excel Files"
   ],
   "cell_type": "markdown",
   "metadata": {}
  },
  {
   "cell_type": "code",
   "execution_count": 25,
   "metadata": {},
   "outputs": [],
   "source": [
    "# Using tkinter to browse the file\n",
    "root.withdraw()\n",
    "file_excel=filedialog.askopenfilename(title=\"Browse the required file...\")"
   ]
  },
  {
   "cell_type": "code",
   "execution_count": 28,
   "metadata": {},
   "outputs": [
    {
     "output_type": "execute_result",
     "data": {
      "text/plain": [
       "                         Year   2001   2002   2003  ...   2015   2016   2017   2018\n",
       "0          Metropolitan areas    NaN    NaN    NaN  ...    NaN    NaN    NaN    NaN\n",
       "1              AUS: Australia     ..     ..     ..  ...     ..     ..     ..     ..\n",
       "2       AUS01: Greater Sydney  43313  44008  45424  ...  50075  50519  50578  49860\n",
       "3    AUS02: Greater Melbourne  40125  40894  41602  ...  42928  42671  43025  42674\n",
       "4     AUS03: Greater Brisbane  37580  37564  39080  ...  44388  45723  46876  46640\n",
       "\n",
       "[5 rows x 19 columns]"
      ],
      "text/html": "<div>\n<style scoped>\n    .dataframe tbody tr th:only-of-type {\n        vertical-align: middle;\n    }\n\n    .dataframe tbody tr th {\n        vertical-align: top;\n    }\n\n    .dataframe thead th {\n        text-align: right;\n    }\n</style>\n<table border=\"1\" class=\"dataframe\">\n  <thead>\n    <tr style=\"text-align: right;\">\n      <th></th>\n      <th>Year</th>\n      <th>2001</th>\n      <th>2002</th>\n      <th>2003</th>\n      <th>...</th>\n      <th>2015</th>\n      <th>2016</th>\n      <th>2017</th>\n      <th>2018</th>\n    </tr>\n  </thead>\n  <tbody>\n    <tr>\n      <th>0</th>\n      <td>Metropolitan areas</td>\n      <td>NaN</td>\n      <td>NaN</td>\n      <td>NaN</td>\n      <td>...</td>\n      <td>NaN</td>\n      <td>NaN</td>\n      <td>NaN</td>\n      <td>NaN</td>\n    </tr>\n    <tr>\n      <th>1</th>\n      <td>AUS: Australia</td>\n      <td>..</td>\n      <td>..</td>\n      <td>..</td>\n      <td>...</td>\n      <td>..</td>\n      <td>..</td>\n      <td>..</td>\n      <td>..</td>\n    </tr>\n    <tr>\n      <th>2</th>\n      <td>AUS01: Greater Sydney</td>\n      <td>43313</td>\n      <td>44008</td>\n      <td>45424</td>\n      <td>...</td>\n      <td>50075</td>\n      <td>50519</td>\n      <td>50578</td>\n      <td>49860</td>\n    </tr>\n    <tr>\n      <th>3</th>\n      <td>AUS02: Greater Melbourne</td>\n      <td>40125</td>\n      <td>40894</td>\n      <td>41602</td>\n      <td>...</td>\n      <td>42928</td>\n      <td>42671</td>\n      <td>43025</td>\n      <td>42674</td>\n    </tr>\n    <tr>\n      <th>4</th>\n      <td>AUS03: Greater Brisbane</td>\n      <td>37580</td>\n      <td>37564</td>\n      <td>39080</td>\n      <td>...</td>\n      <td>44388</td>\n      <td>45723</td>\n      <td>46876</td>\n      <td>46640</td>\n    </tr>\n  </tbody>\n</table>\n<p>5 rows × 19 columns</p>\n</div>"
     },
     "metadata": {},
     "execution_count": 28
    }
   ],
   "source": [
    "# Whenever the excel files doesnt have the data in starting Rows/Columns in a standard format, We import usint the following way. \n",
    "percapitaGDP=pd.read_excel(file_excel,\n",
    "    sheet_name=\"OECD.Stat export\",\n",
    "    skiprows=4,\n",
    "    skipfooter=1,\n",
    "    usecols=\"A,C:T\")\n",
    "# The above code reads the file browsed, Checks for the specifies column, Skips the first four rows and the last footer row and only considers the columns A, C to T\n",
    "percapitaGDP.head()"
   ]
  },
  {
   "cell_type": "code",
   "execution_count": 29,
   "metadata": {},
   "outputs": [
    {
     "output_type": "stream",
     "name": "stdout",
     "text": [
      "<class 'pandas.core.frame.DataFrame'>\nRangeIndex: 702 entries, 0 to 701\nData columns (total 19 columns):\n #   Column  Non-Null Count  Dtype \n---  ------  --------------  ----- \n 0   Year    702 non-null    object\n 1   2001    701 non-null    object\n 2   2002    701 non-null    object\n 3   2003    701 non-null    object\n 4   2004    701 non-null    object\n 5   2005    701 non-null    object\n 6   2006    701 non-null    object\n 7   2007    701 non-null    object\n 8   2008    701 non-null    object\n 9   2009    701 non-null    object\n 10  2010    701 non-null    object\n 11  2011    701 non-null    object\n 12  2012    701 non-null    object\n 13  2013    701 non-null    object\n 14  2014    701 non-null    object\n 15  2015    701 non-null    object\n 16  2016    701 non-null    object\n 17  2017    701 non-null    object\n 18  2018    701 non-null    object\ndtypes: object(19)\nmemory usage: 104.3+ KB\n"
     ]
    }
   ],
   "source": [
    "percapitaGDP.info() # info method is used to view data types and the non-null count "
   ]
  },
  {
   "cell_type": "code",
   "execution_count": 33,
   "metadata": {},
   "outputs": [
    {
     "output_type": "stream",
     "name": "stdout",
     "text": [
      "False\nFalse\n"
     ]
    }
   ],
   "source": [
    "# In the above table, Column \"Year\" is a misnomer and has to be replaced along with leading spaces in the rows \n",
    "percapitaGDP.rename(columns={'Year':'metro'},inplace=True)      # This renames the column from \"Year\" to \"metro\"\n",
    "print(percapitaGDP.metro.str.startswith(' ').any())       # Check if we have any values in the column that start with leading spaces\n",
    "print(percapitaGDP.metro.str.endswith(' ').any())       # Check if there are any values in the column has trailing spaces"
   ]
  },
  {
   "cell_type": "code",
   "execution_count": 32,
   "metadata": {},
   "outputs": [],
   "source": [
    "percapitaGDP.metro=percapitaGDP.metro.str.strip()       # Stripping off the leading and trailing spaces in the Column \"metro\""
   ]
  },
  {
   "cell_type": "code",
   "execution_count": 34,
   "metadata": {},
   "outputs": [],
   "source": [
    "# All the Data types in the columns are presented as object. We have to convert them to numeric.\n",
    "for col in percapitaGDP.columns[1:]:\n",
    "    percapitaGDP[col]=pd.to_numeric(percapitaGDP[col],errors='coerce')\n",
    "    percapitaGDP.rename(columns={col:'pcGDP'+col},inplace=True)\n",
    "# Using the for loop we have iterated from second row till last column, typecasting the values as numeric.\n",
    "# Coerce is used so that the missing values marked as \"..\" in the data shall become NaN values\n",
    "# The  last line is to replace add \"pcGDP\" to every Year in the column name."
   ]
  },
  {
   "cell_type": "code",
   "execution_count": 37,
   "metadata": {},
   "outputs": [
    {
     "output_type": "execute_result",
     "data": {
      "text/plain": [
       "metro         object\n",
       "pcGDP2001    float64\n",
       "pcGDP2002    float64\n",
       "pcGDP2003    float64\n",
       "pcGDP2004    float64\n",
       "pcGDP2005    float64\n",
       "pcGDP2006    float64\n",
       "pcGDP2007    float64\n",
       "pcGDP2008    float64\n",
       "pcGDP2009    float64\n",
       "pcGDP2010    float64\n",
       "pcGDP2011    float64\n",
       "pcGDP2012    float64\n",
       "pcGDP2013    float64\n",
       "pcGDP2014    float64\n",
       "pcGDP2015    float64\n",
       "pcGDP2016    float64\n",
       "pcGDP2017    float64\n",
       "pcGDP2018    float64\n",
       "dtype: object"
      ]
     },
     "metadata": {},
     "execution_count": 37
    }
   ],
   "source": [
    "percapitaGDP.dtypes # Note that every column except for the first column has turned to float type from object type"
   ]
  },
  {
   "cell_type": "code",
   "execution_count": 38,
   "metadata": {},
   "outputs": [
    {
     "output_type": "execute_result",
     "data": {
      "text/plain": [
       "       pcGDP2001  pcGDP2002  pcGDP2003  pcGDP2004  ...  pcGDP2015  pcGDP2016  \\\n",
       "count     424.00     440.00     440.00     440.00  ...     480.00     480.00   \n",
       "mean   41,263.66  41,015.07  41,553.36  42,473.02  ...  45,802.22  46,243.67   \n",
       "std    11,877.96  12,536.52  12,456.58  12,621.90  ...  14,948.68  14,938.55   \n",
       "min    10,988.00  11,435.00  11,969.00  12,777.00  ...   2,761.00   2,796.00   \n",
       "25%    33,139.25  32,636.00  33,284.75  33,864.50  ...  36,128.50  36,584.75   \n",
       "50%    39,543.50  39,683.50  40,390.50  41,200.50  ...  43,237.50  43,931.50   \n",
       "75%    47,971.75  48,611.00  49,354.75  50,468.25  ...  54,134.25  54,449.75   \n",
       "max    91,488.00  93,566.00  98,123.00  96,242.00  ... 121,623.00 117,879.00   \n",
       "\n",
       "       pcGDP2017  pcGDP2018  \n",
       "count     445.00     441.00  \n",
       "mean   47,489.09  48,032.67  \n",
       "std    15,463.80  15,719.73  \n",
       "min     2,745.00   2,832.00  \n",
       "25%    37,316.00  37,908.00  \n",
       "50%    45,385.00  46,057.00  \n",
       "75%    56,023.00  56,638.00  \n",
       "max   122,242.00 127,468.00  \n",
       "\n",
       "[8 rows x 18 columns]"
      ],
      "text/html": "<div>\n<style scoped>\n    .dataframe tbody tr th:only-of-type {\n        vertical-align: middle;\n    }\n\n    .dataframe tbody tr th {\n        vertical-align: top;\n    }\n\n    .dataframe thead th {\n        text-align: right;\n    }\n</style>\n<table border=\"1\" class=\"dataframe\">\n  <thead>\n    <tr style=\"text-align: right;\">\n      <th></th>\n      <th>pcGDP2001</th>\n      <th>pcGDP2002</th>\n      <th>pcGDP2003</th>\n      <th>pcGDP2004</th>\n      <th>...</th>\n      <th>pcGDP2015</th>\n      <th>pcGDP2016</th>\n      <th>pcGDP2017</th>\n      <th>pcGDP2018</th>\n    </tr>\n  </thead>\n  <tbody>\n    <tr>\n      <th>count</th>\n      <td>424.00</td>\n      <td>440.00</td>\n      <td>440.00</td>\n      <td>440.00</td>\n      <td>...</td>\n      <td>480.00</td>\n      <td>480.00</td>\n      <td>445.00</td>\n      <td>441.00</td>\n    </tr>\n    <tr>\n      <th>mean</th>\n      <td>41,263.66</td>\n      <td>41,015.07</td>\n      <td>41,553.36</td>\n      <td>42,473.02</td>\n      <td>...</td>\n      <td>45,802.22</td>\n      <td>46,243.67</td>\n      <td>47,489.09</td>\n      <td>48,032.67</td>\n    </tr>\n    <tr>\n      <th>std</th>\n      <td>11,877.96</td>\n      <td>12,536.52</td>\n      <td>12,456.58</td>\n      <td>12,621.90</td>\n      <td>...</td>\n      <td>14,948.68</td>\n      <td>14,938.55</td>\n      <td>15,463.80</td>\n      <td>15,719.73</td>\n    </tr>\n    <tr>\n      <th>min</th>\n      <td>10,988.00</td>\n      <td>11,435.00</td>\n      <td>11,969.00</td>\n      <td>12,777.00</td>\n      <td>...</td>\n      <td>2,761.00</td>\n      <td>2,796.00</td>\n      <td>2,745.00</td>\n      <td>2,832.00</td>\n    </tr>\n    <tr>\n      <th>25%</th>\n      <td>33,139.25</td>\n      <td>32,636.00</td>\n      <td>33,284.75</td>\n      <td>33,864.50</td>\n      <td>...</td>\n      <td>36,128.50</td>\n      <td>36,584.75</td>\n      <td>37,316.00</td>\n      <td>37,908.00</td>\n    </tr>\n    <tr>\n      <th>50%</th>\n      <td>39,543.50</td>\n      <td>39,683.50</td>\n      <td>40,390.50</td>\n      <td>41,200.50</td>\n      <td>...</td>\n      <td>43,237.50</td>\n      <td>43,931.50</td>\n      <td>45,385.00</td>\n      <td>46,057.00</td>\n    </tr>\n    <tr>\n      <th>75%</th>\n      <td>47,971.75</td>\n      <td>48,611.00</td>\n      <td>49,354.75</td>\n      <td>50,468.25</td>\n      <td>...</td>\n      <td>54,134.25</td>\n      <td>54,449.75</td>\n      <td>56,023.00</td>\n      <td>56,638.00</td>\n    </tr>\n    <tr>\n      <th>max</th>\n      <td>91,488.00</td>\n      <td>93,566.00</td>\n      <td>98,123.00</td>\n      <td>96,242.00</td>\n      <td>...</td>\n      <td>121,623.00</td>\n      <td>117,879.00</td>\n      <td>122,242.00</td>\n      <td>127,468.00</td>\n    </tr>\n  </tbody>\n</table>\n<p>8 rows × 18 columns</p>\n</div>"
     },
     "metadata": {},
     "execution_count": 38
    }
   ],
   "source": [
    "percapitaGDP.describe()     # To generate summary satistics for all columns"
   ]
  },
  {
   "cell_type": "code",
   "execution_count": 39,
   "metadata": {},
   "outputs": [],
   "source": [
    "# To drop rows where we have NaN values in all values columns i.e., from COl 2 to end\n",
    "percapitaGDP.dropna(subset=percapitaGDP.columns[1:],how=\"all\",inplace=True)"
   ]
  },
  {
   "cell_type": "code",
   "execution_count": 40,
   "metadata": {},
   "outputs": [
    {
     "output_type": "execute_result",
     "data": {
      "text/plain": [
       "       pcGDP2001  pcGDP2002  pcGDP2003  pcGDP2004  ...  pcGDP2015  pcGDP2016  \\\n",
       "count     424.00     440.00     440.00     440.00  ...     480.00     480.00   \n",
       "mean   41,263.66  41,015.07  41,553.36  42,473.02  ...  45,802.22  46,243.67   \n",
       "std    11,877.96  12,536.52  12,456.58  12,621.90  ...  14,948.68  14,938.55   \n",
       "min    10,988.00  11,435.00  11,969.00  12,777.00  ...   2,761.00   2,796.00   \n",
       "25%    33,139.25  32,636.00  33,284.75  33,864.50  ...  36,128.50  36,584.75   \n",
       "50%    39,543.50  39,683.50  40,390.50  41,200.50  ...  43,237.50  43,931.50   \n",
       "75%    47,971.75  48,611.00  49,354.75  50,468.25  ...  54,134.25  54,449.75   \n",
       "max    91,488.00  93,566.00  98,123.00  96,242.00  ... 121,623.00 117,879.00   \n",
       "\n",
       "       pcGDP2017  pcGDP2018  \n",
       "count     445.00     441.00  \n",
       "mean   47,489.09  48,032.67  \n",
       "std    15,463.80  15,719.73  \n",
       "min     2,745.00   2,832.00  \n",
       "25%    37,316.00  37,908.00  \n",
       "50%    45,385.00  46,057.00  \n",
       "75%    56,023.00  56,638.00  \n",
       "max   122,242.00 127,468.00  \n",
       "\n",
       "[8 rows x 18 columns]"
      ],
      "text/html": "<div>\n<style scoped>\n    .dataframe tbody tr th:only-of-type {\n        vertical-align: middle;\n    }\n\n    .dataframe tbody tr th {\n        vertical-align: top;\n    }\n\n    .dataframe thead th {\n        text-align: right;\n    }\n</style>\n<table border=\"1\" class=\"dataframe\">\n  <thead>\n    <tr style=\"text-align: right;\">\n      <th></th>\n      <th>pcGDP2001</th>\n      <th>pcGDP2002</th>\n      <th>pcGDP2003</th>\n      <th>pcGDP2004</th>\n      <th>...</th>\n      <th>pcGDP2015</th>\n      <th>pcGDP2016</th>\n      <th>pcGDP2017</th>\n      <th>pcGDP2018</th>\n    </tr>\n  </thead>\n  <tbody>\n    <tr>\n      <th>count</th>\n      <td>424.00</td>\n      <td>440.00</td>\n      <td>440.00</td>\n      <td>440.00</td>\n      <td>...</td>\n      <td>480.00</td>\n      <td>480.00</td>\n      <td>445.00</td>\n      <td>441.00</td>\n    </tr>\n    <tr>\n      <th>mean</th>\n      <td>41,263.66</td>\n      <td>41,015.07</td>\n      <td>41,553.36</td>\n      <td>42,473.02</td>\n      <td>...</td>\n      <td>45,802.22</td>\n      <td>46,243.67</td>\n      <td>47,489.09</td>\n      <td>48,032.67</td>\n    </tr>\n    <tr>\n      <th>std</th>\n      <td>11,877.96</td>\n      <td>12,536.52</td>\n      <td>12,456.58</td>\n      <td>12,621.90</td>\n      <td>...</td>\n      <td>14,948.68</td>\n      <td>14,938.55</td>\n      <td>15,463.80</td>\n      <td>15,719.73</td>\n    </tr>\n    <tr>\n      <th>min</th>\n      <td>10,988.00</td>\n      <td>11,435.00</td>\n      <td>11,969.00</td>\n      <td>12,777.00</td>\n      <td>...</td>\n      <td>2,761.00</td>\n      <td>2,796.00</td>\n      <td>2,745.00</td>\n      <td>2,832.00</td>\n    </tr>\n    <tr>\n      <th>25%</th>\n      <td>33,139.25</td>\n      <td>32,636.00</td>\n      <td>33,284.75</td>\n      <td>33,864.50</td>\n      <td>...</td>\n      <td>36,128.50</td>\n      <td>36,584.75</td>\n      <td>37,316.00</td>\n      <td>37,908.00</td>\n    </tr>\n    <tr>\n      <th>50%</th>\n      <td>39,543.50</td>\n      <td>39,683.50</td>\n      <td>40,390.50</td>\n      <td>41,200.50</td>\n      <td>...</td>\n      <td>43,237.50</td>\n      <td>43,931.50</td>\n      <td>45,385.00</td>\n      <td>46,057.00</td>\n    </tr>\n    <tr>\n      <th>75%</th>\n      <td>47,971.75</td>\n      <td>48,611.00</td>\n      <td>49,354.75</td>\n      <td>50,468.25</td>\n      <td>...</td>\n      <td>54,134.25</td>\n      <td>54,449.75</td>\n      <td>56,023.00</td>\n      <td>56,638.00</td>\n    </tr>\n    <tr>\n      <th>max</th>\n      <td>91,488.00</td>\n      <td>93,566.00</td>\n      <td>98,123.00</td>\n      <td>96,242.00</td>\n      <td>...</td>\n      <td>121,623.00</td>\n      <td>117,879.00</td>\n      <td>122,242.00</td>\n      <td>127,468.00</td>\n    </tr>\n  </tbody>\n</table>\n<p>8 rows × 18 columns</p>\n</div>"
     },
     "metadata": {},
     "execution_count": 40
    }
   ],
   "source": [
    "percapitaGDP.describe()"
   ]
  },
  {
   "cell_type": "code",
   "execution_count": 42,
   "metadata": {},
   "outputs": [
    {
     "output_type": "stream",
     "name": "stdout",
     "text": [
      "                      metro  pcGDP2001  pcGDP2002  pcGDP2003  ...  pcGDP2015  \\\n2     AUS01: Greater Sydney  43,313.00  44,008.00  45,424.00  ...  50,075.00   \n3  AUS02: Greater Melbourne  40,125.00  40,894.00  41,602.00  ...  42,928.00   \n4   AUS03: Greater Brisbane  37,580.00  37,564.00  39,080.00  ...  44,388.00   \n5      AUS04: Greater Perth  45,713.00  47,371.00  48,719.00  ...  66,544.00   \n6   AUS05: Greater Adelaide  36,505.00  37,194.00  37,634.00  ...  40,295.00   \n\n   pcGDP2016  pcGDP2017  pcGDP2018  \n2  50,519.00  50,578.00  49,860.00  \n3  42,671.00  43,025.00  42,674.00  \n4  45,723.00  46,876.00  46,640.00  \n5  66,032.00  66,424.00  70,390.00  \n6  39,737.00  40,115.00  39,924.00  \n\n[5 rows x 19 columns]\n\n\nThe Shape of the Dataframe is\n(480, 19)\n"
     ]
    }
   ],
   "source": [
    "print(percapitaGDP.head())\n",
    "print(\"\\n\\nThe Shape of the Dataframe is\")\n",
    "print(percapitaGDP.shape)"
   ]
  },
  {
   "cell_type": "code",
   "execution_count": 45,
   "metadata": {},
   "outputs": [
    {
     "output_type": "stream",
     "name": "stdout",
     "text": [
      "480\n480\n"
     ]
    }
   ],
   "source": [
    "# Setting the index for the dataframe using the metro column: Before that verify if count of the rows is equal to the unique values.i.e., All rows are unique\n",
    "print(percapitaGDP.metro.count())\n",
    "print(percapitaGDP.metro.nunique() )"
   ]
  },
  {
   "cell_type": "code",
   "execution_count": 46,
   "metadata": {},
   "outputs": [
    {
     "output_type": "execute_result",
     "data": {
      "text/plain": [
       "                          pcGDP2001  pcGDP2002  pcGDP2003  pcGDP2004  ...  \\\n",
       "metro                                                                 ...   \n",
       "AUS01: Greater Sydney     43,313.00  44,008.00  45,424.00  45,837.00  ...   \n",
       "AUS02: Greater Melbourne  40,125.00  40,894.00  41,602.00  42,188.00  ...   \n",
       "AUS03: Greater Brisbane   37,580.00  37,564.00  39,080.00  40,762.00  ...   \n",
       "AUS04: Greater Perth      45,713.00  47,371.00  48,719.00  51,020.00  ...   \n",
       "AUS05: Greater Adelaide   36,505.00  37,194.00  37,634.00  37,399.00  ...   \n",
       "\n",
       "                          pcGDP2015  pcGDP2016  pcGDP2017  pcGDP2018  \n",
       "metro                                                                 \n",
       "AUS01: Greater Sydney     50,075.00  50,519.00  50,578.00  49,860.00  \n",
       "AUS02: Greater Melbourne  42,928.00  42,671.00  43,025.00  42,674.00  \n",
       "AUS03: Greater Brisbane   44,388.00  45,723.00  46,876.00  46,640.00  \n",
       "AUS04: Greater Perth      66,544.00  66,032.00  66,424.00  70,390.00  \n",
       "AUS05: Greater Adelaide   40,295.00  39,737.00  40,115.00  39,924.00  \n",
       "\n",
       "[5 rows x 18 columns]"
      ],
      "text/html": "<div>\n<style scoped>\n    .dataframe tbody tr th:only-of-type {\n        vertical-align: middle;\n    }\n\n    .dataframe tbody tr th {\n        vertical-align: top;\n    }\n\n    .dataframe thead th {\n        text-align: right;\n    }\n</style>\n<table border=\"1\" class=\"dataframe\">\n  <thead>\n    <tr style=\"text-align: right;\">\n      <th></th>\n      <th>pcGDP2001</th>\n      <th>pcGDP2002</th>\n      <th>pcGDP2003</th>\n      <th>pcGDP2004</th>\n      <th>...</th>\n      <th>pcGDP2015</th>\n      <th>pcGDP2016</th>\n      <th>pcGDP2017</th>\n      <th>pcGDP2018</th>\n    </tr>\n    <tr>\n      <th>metro</th>\n      <th></th>\n      <th></th>\n      <th></th>\n      <th></th>\n      <th></th>\n      <th></th>\n      <th></th>\n      <th></th>\n      <th></th>\n    </tr>\n  </thead>\n  <tbody>\n    <tr>\n      <th>AUS01: Greater Sydney</th>\n      <td>43,313.00</td>\n      <td>44,008.00</td>\n      <td>45,424.00</td>\n      <td>45,837.00</td>\n      <td>...</td>\n      <td>50,075.00</td>\n      <td>50,519.00</td>\n      <td>50,578.00</td>\n      <td>49,860.00</td>\n    </tr>\n    <tr>\n      <th>AUS02: Greater Melbourne</th>\n      <td>40,125.00</td>\n      <td>40,894.00</td>\n      <td>41,602.00</td>\n      <td>42,188.00</td>\n      <td>...</td>\n      <td>42,928.00</td>\n      <td>42,671.00</td>\n      <td>43,025.00</td>\n      <td>42,674.00</td>\n    </tr>\n    <tr>\n      <th>AUS03: Greater Brisbane</th>\n      <td>37,580.00</td>\n      <td>37,564.00</td>\n      <td>39,080.00</td>\n      <td>40,762.00</td>\n      <td>...</td>\n      <td>44,388.00</td>\n      <td>45,723.00</td>\n      <td>46,876.00</td>\n      <td>46,640.00</td>\n    </tr>\n    <tr>\n      <th>AUS04: Greater Perth</th>\n      <td>45,713.00</td>\n      <td>47,371.00</td>\n      <td>48,719.00</td>\n      <td>51,020.00</td>\n      <td>...</td>\n      <td>66,544.00</td>\n      <td>66,032.00</td>\n      <td>66,424.00</td>\n      <td>70,390.00</td>\n    </tr>\n    <tr>\n      <th>AUS05: Greater Adelaide</th>\n      <td>36,505.00</td>\n      <td>37,194.00</td>\n      <td>37,634.00</td>\n      <td>37,399.00</td>\n      <td>...</td>\n      <td>40,295.00</td>\n      <td>39,737.00</td>\n      <td>40,115.00</td>\n      <td>39,924.00</td>\n    </tr>\n  </tbody>\n</table>\n<p>5 rows × 18 columns</p>\n</div>"
     },
     "metadata": {},
     "execution_count": 46
    }
   ],
   "source": [
    "percapitaGDP.set_index('metro',inplace=True)\n",
    "percapitaGDP.head()"
   ]
  },
  {
   "cell_type": "code",
   "execution_count": 47,
   "metadata": {},
   "outputs": [
    {
     "output_type": "execute_result",
     "data": {
      "text/plain": [
       "pcGDP2001   40,125.00\n",
       "pcGDP2002   40,894.00\n",
       "pcGDP2003   41,602.00\n",
       "pcGDP2004   42,188.00\n",
       "pcGDP2005   41,484.00\n",
       "pcGDP2006   41,589.00\n",
       "pcGDP2007   42,316.00\n",
       "pcGDP2008   40,975.00\n",
       "pcGDP2009   41,384.00\n",
       "pcGDP2010   40,943.00\n",
       "pcGDP2011   41,165.00\n",
       "pcGDP2012   41,264.00\n",
       "pcGDP2013   41,157.00\n",
       "pcGDP2014   42,114.00\n",
       "pcGDP2015   42,928.00\n",
       "pcGDP2016   42,671.00\n",
       "pcGDP2017   43,025.00\n",
       "pcGDP2018   42,674.00\n",
       "Name: AUS02: Greater Melbourne, dtype: float64"
      ]
     },
     "metadata": {},
     "execution_count": 47
    }
   ],
   "source": [
    "percapitaGDP.loc['AUS02: Greater Melbourne']"
   ]
  },
  {
   "source": [
    "If a column name starts with Number and we try to call it say percapitaGDP.2001.count(), it will not work as Python identifier cannot start with a number"
   ],
   "cell_type": "markdown",
   "metadata": {}
  },
  {
   "source": [
    "<h2> Importing Data from SQL databases"
   ],
   "cell_type": "markdown",
   "metadata": {}
  },
  {
   "cell_type": "code",
   "execution_count": 3,
   "metadata": {},
   "outputs": [],
   "source": [
    "import numpy as np \n",
    "import pymssql"
   ]
  },
  {
   "source": [
    "Connecting to a SQL server by mentioning Query and the connection details using pandas and \"pymssql\" API . "
   ],
   "cell_type": "markdown",
   "metadata": {}
  },
  {
   "cell_type": "code",
   "execution_count": 4,
   "metadata": {},
   "outputs": [],
   "source": [
    "query=\"SELECT studentid, school, sex, age, famsize,medu as mothereducation,fedu as fathereducation,traveltime,studytime,failures,famrel,freetime,\\\n",
    "    goout,g1 as gradeperiod1,g2 as gradeperiod2,g3 as gradeperiod3 from studentmath\"\n",
    "server=\"pdcc.c9sqqzd5fulv.us-west-2.rds.amazonaws.com\"\n",
    "user=\"pdccuser\"\n",
    "password=\"pdccpass\"\n",
    "database=\"pdcctest\"\n",
    "conn = pymssql.connect(server=server,user=user,password=password,database=database)\n",
    "studentmath = pd.read_sql(query,conn)\n",
    "conn.close()"
   ]
  },
  {
   "cell_type": "code",
   "execution_count": 12,
   "metadata": {},
   "outputs": [
    {
     "output_type": "execute_result",
     "data": {
      "text/plain": [
       "  studentid school sex  age  ... goout  gradeperiod1  gradeperiod2  gradeperiod3\n",
       "0       001     GP   F   18  ...     4             5             6             6\n",
       "1       002     GP   F   17  ...     3             5             5             6\n",
       "2       003     GP   F   15  ...     2             7             8            10\n",
       "3       004     GP   F   15  ...     2            15            14            15\n",
       "4       005     GP   F   16  ...     2             6            10            10\n",
       "5       006     GP   M   16  ...     2            15            15            15\n",
       "6       007     GP   M   16  ...     4            12            12            11\n",
       "7       008     GP   F   17  ...     4             6             5             6\n",
       "8       009     GP   M   15  ...     2            16            18            19\n",
       "9       010     GP   M   15  ...     1            14            15            15\n",
       "\n",
       "[10 rows x 16 columns]"
      ],
      "text/html": "<div>\n<style scoped>\n    .dataframe tbody tr th:only-of-type {\n        vertical-align: middle;\n    }\n\n    .dataframe tbody tr th {\n        vertical-align: top;\n    }\n\n    .dataframe thead th {\n        text-align: right;\n    }\n</style>\n<table border=\"1\" class=\"dataframe\">\n  <thead>\n    <tr style=\"text-align: right;\">\n      <th></th>\n      <th>studentid</th>\n      <th>school</th>\n      <th>sex</th>\n      <th>age</th>\n      <th>...</th>\n      <th>goout</th>\n      <th>gradeperiod1</th>\n      <th>gradeperiod2</th>\n      <th>gradeperiod3</th>\n    </tr>\n  </thead>\n  <tbody>\n    <tr>\n      <th>0</th>\n      <td>001</td>\n      <td>GP</td>\n      <td>F</td>\n      <td>18</td>\n      <td>...</td>\n      <td>4</td>\n      <td>5</td>\n      <td>6</td>\n      <td>6</td>\n    </tr>\n    <tr>\n      <th>1</th>\n      <td>002</td>\n      <td>GP</td>\n      <td>F</td>\n      <td>17</td>\n      <td>...</td>\n      <td>3</td>\n      <td>5</td>\n      <td>5</td>\n      <td>6</td>\n    </tr>\n    <tr>\n      <th>2</th>\n      <td>003</td>\n      <td>GP</td>\n      <td>F</td>\n      <td>15</td>\n      <td>...</td>\n      <td>2</td>\n      <td>7</td>\n      <td>8</td>\n      <td>10</td>\n    </tr>\n    <tr>\n      <th>3</th>\n      <td>004</td>\n      <td>GP</td>\n      <td>F</td>\n      <td>15</td>\n      <td>...</td>\n      <td>2</td>\n      <td>15</td>\n      <td>14</td>\n      <td>15</td>\n    </tr>\n    <tr>\n      <th>4</th>\n      <td>005</td>\n      <td>GP</td>\n      <td>F</td>\n      <td>16</td>\n      <td>...</td>\n      <td>2</td>\n      <td>6</td>\n      <td>10</td>\n      <td>10</td>\n    </tr>\n    <tr>\n      <th>5</th>\n      <td>006</td>\n      <td>GP</td>\n      <td>M</td>\n      <td>16</td>\n      <td>...</td>\n      <td>2</td>\n      <td>15</td>\n      <td>15</td>\n      <td>15</td>\n    </tr>\n    <tr>\n      <th>6</th>\n      <td>007</td>\n      <td>GP</td>\n      <td>M</td>\n      <td>16</td>\n      <td>...</td>\n      <td>4</td>\n      <td>12</td>\n      <td>12</td>\n      <td>11</td>\n    </tr>\n    <tr>\n      <th>7</th>\n      <td>008</td>\n      <td>GP</td>\n      <td>F</td>\n      <td>17</td>\n      <td>...</td>\n      <td>4</td>\n      <td>6</td>\n      <td>5</td>\n      <td>6</td>\n    </tr>\n    <tr>\n      <th>8</th>\n      <td>009</td>\n      <td>GP</td>\n      <td>M</td>\n      <td>15</td>\n      <td>...</td>\n      <td>2</td>\n      <td>16</td>\n      <td>18</td>\n      <td>19</td>\n    </tr>\n    <tr>\n      <th>9</th>\n      <td>010</td>\n      <td>GP</td>\n      <td>M</td>\n      <td>15</td>\n      <td>...</td>\n      <td>1</td>\n      <td>14</td>\n      <td>15</td>\n      <td>15</td>\n    </tr>\n  </tbody>\n</table>\n<p>10 rows × 16 columns</p>\n</div>"
     },
     "metadata": {},
     "execution_count": 12
    }
   ],
   "source": [
    "studentmath.head(10)"
   ]
  },
  {
   "cell_type": "code",
   "execution_count": 5,
   "metadata": {},
   "outputs": [
    {
     "output_type": "stream",
     "name": "stdout",
     "text": [
      "395\n395\n"
     ]
    }
   ],
   "source": [
    "newcolorder=['studentid','gradeperiod1','gradeperiod2','gradeperiod3','school','sex','age','famsize','mothereducation','fathereducation','traveltime','studytime','freetime','failures','famrel','goout']       # Defining a new column order\n",
    "studentmath=studentmath[newcolorder]        #Assigning the new column order to the existing table\n",
    "# Check if there are any duplicates before creating index\n",
    "print(studentmath.studentid.count())\n",
    "print(studentmath.studentid.nunique())"
   ]
  },
  {
   "cell_type": "code",
   "execution_count": 6,
   "metadata": {},
   "outputs": [],
   "source": [
    "# Creating Index on StudentId\n",
    "studentmath.set_index('studentid',inplace=True)"
   ]
  },
  {
   "cell_type": "code",
   "execution_count": 7,
   "metadata": {},
   "outputs": [
    {
     "output_type": "execute_result",
     "data": {
      "text/plain": [
       "gradeperiod1       395\n",
       "gradeperiod2       395\n",
       "gradeperiod3       395\n",
       "school             395\n",
       "sex                395\n",
       "age                395\n",
       "famsize            395\n",
       "mothereducation    395\n",
       "fathereducation    395\n",
       "traveltime         395\n",
       "studytime          395\n",
       "freetime           395\n",
       "failures           395\n",
       "famrel             395\n",
       "goout              395\n",
       "dtype: int64"
      ]
     },
     "metadata": {},
     "execution_count": 7
    }
   ],
   "source": [
    "# Check for missing values\n",
    "studentmath.count()"
   ]
  },
  {
   "cell_type": "code",
   "execution_count": 8,
   "metadata": {},
   "outputs": [],
   "source": [
    "# Replace the nuerical values with Informative values\n",
    "setvalues={\"famrel\":{1:\"1:very bad\",2:\"2:bad\",3:\"3:neutral\",4:\"4:good\",5:\"5:excellent\"},\"freetime\":{1:\"1:very low\",2:\"2:low\",3:\"3:neutral\",4:\"4:high\",5:\"5:very high\"},\"goout\":{1:\"1:very low\",2:\"2:low\",3:\"3:neutral\",4:\"4:high\",5:\"5:very high\"},\"mothereducation\":{0:np.NaN,1:\"1: k-4\",2:\"2: 5-9\",3:\"3: Secondary ed\",4:\"4: Higher ed\"},\"fathereducation\":{0:np.NaN,1:\"1: k-4\",2:\"2: 5-9\",3:\"3: Secondary ed\",4:\"4: Higher ed\"}}\n",
    "\n",
    "studentmath.replace(setvalues,inplace=True)\n",
    "setvalueskeys=[k for k in setvalues] # Creates a list of all the column names mentioned in the dictionary setvalues"
   ]
  },
  {
   "cell_type": "code",
   "execution_count": 12,
   "metadata": {},
   "outputs": [
    {
     "output_type": "execute_result",
     "data": {
      "text/plain": [
       "famrel             3160\n",
       "freetime           3160\n",
       "goout              3160\n",
       "mothereducation    3160\n",
       "fathereducation    3160\n",
       "dtype: int64"
      ]
     },
     "metadata": {},
     "execution_count": 12
    }
   ],
   "source": [
    "# Chaning the Setvalue columns to Category typr\n",
    "studentmath[setvalueskeys].memory_usage(index=False)    # Initial Memory usage\n"
   ]
  },
  {
   "cell_type": "code",
   "execution_count": 13,
   "metadata": {},
   "outputs": [
    {
     "output_type": "execute_result",
     "data": {
      "text/plain": [
       "famrel             595\n",
       "freetime           595\n",
       "goout              595\n",
       "mothereducation    587\n",
       "fathereducation    587\n",
       "dtype: int64"
      ]
     },
     "metadata": {},
     "execution_count": 13
    }
   ],
   "source": [
    "# Iterating over the column names in the setvalues to convert them as a category\n",
    "for col in studentmath[setvalueskeys].columns:\n",
    "    studentmath[col]=studentmath[col].astype('category')\n",
    "studentmath[setvalueskeys].memory_usage(index=False) "
   ]
  },
  {
   "cell_type": "code",
   "execution_count": 14,
   "metadata": {},
   "outputs": [
    {
     "output_type": "execute_result",
     "data": {
      "text/plain": [
       "1:very bad    0.02\n",
       "2:bad         0.05\n",
       "3:neutral     0.17\n",
       "4:good        0.49\n",
       "5:excellent   0.27\n",
       "Name: famrel, dtype: float64"
      ]
     },
     "metadata": {},
     "execution_count": 14
    }
   ],
   "source": [
    "# Calculate the percentage of Values in \"Famrel\" column\n",
    "studentmath['famrel'].value_counts(sort=False,normalize=True)"
   ]
  },
  {
   "cell_type": "code",
   "execution_count": 15,
   "metadata": {},
   "outputs": [
    {
     "output_type": "execute_result",
     "data": {
      "text/plain": [
       "             freetime  goout\n",
       "1:very low       0.05   0.06\n",
       "2:low            0.16   0.26\n",
       "3:neutral        0.40   0.33\n",
       "4:high           0.29   0.22\n",
       "5:very high      0.10   0.13"
      ],
      "text/html": "<div>\n<style scoped>\n    .dataframe tbody tr th:only-of-type {\n        vertical-align: middle;\n    }\n\n    .dataframe tbody tr th {\n        vertical-align: top;\n    }\n\n    .dataframe thead th {\n        text-align: right;\n    }\n</style>\n<table border=\"1\" class=\"dataframe\">\n  <thead>\n    <tr style=\"text-align: right;\">\n      <th></th>\n      <th>freetime</th>\n      <th>goout</th>\n    </tr>\n  </thead>\n  <tbody>\n    <tr>\n      <th>1:very low</th>\n      <td>0.05</td>\n      <td>0.06</td>\n    </tr>\n    <tr>\n      <th>2:low</th>\n      <td>0.16</td>\n      <td>0.26</td>\n    </tr>\n    <tr>\n      <th>3:neutral</th>\n      <td>0.40</td>\n      <td>0.33</td>\n    </tr>\n    <tr>\n      <th>4:high</th>\n      <td>0.29</td>\n      <td>0.22</td>\n    </tr>\n    <tr>\n      <th>5:very high</th>\n      <td>0.10</td>\n      <td>0.13</td>\n    </tr>\n  </tbody>\n</table>\n</div>"
     },
     "metadata": {},
     "execution_count": 15
    }
   ],
   "source": [
    "# For getting multiple columns Values percentage use apply function\n",
    "studentmath[['freetime','goout']].apply(pd.Series.value_counts,sort=False,normalize=True)"
   ]
  },
  {
   "cell_type": "code",
   "execution_count": 16,
   "metadata": {},
   "outputs": [
    {
     "output_type": "execute_result",
     "data": {
      "text/plain": [
       "                 mothereducation  fathereducation\n",
       "1: k-4                      0.15             0.21\n",
       "2: 5-9                      0.26             0.29\n",
       "3: Secondary ed             0.25             0.25\n",
       "4: Higher ed                0.33             0.24"
      ],
      "text/html": "<div>\n<style scoped>\n    .dataframe tbody tr th:only-of-type {\n        vertical-align: middle;\n    }\n\n    .dataframe tbody tr th {\n        vertical-align: top;\n    }\n\n    .dataframe thead th {\n        text-align: right;\n    }\n</style>\n<table border=\"1\" class=\"dataframe\">\n  <thead>\n    <tr style=\"text-align: right;\">\n      <th></th>\n      <th>mothereducation</th>\n      <th>fathereducation</th>\n    </tr>\n  </thead>\n  <tbody>\n    <tr>\n      <th>1: k-4</th>\n      <td>0.15</td>\n      <td>0.21</td>\n    </tr>\n    <tr>\n      <th>2: 5-9</th>\n      <td>0.26</td>\n      <td>0.29</td>\n    </tr>\n    <tr>\n      <th>3: Secondary ed</th>\n      <td>0.25</td>\n      <td>0.25</td>\n    </tr>\n    <tr>\n      <th>4: Higher ed</th>\n      <td>0.33</td>\n      <td>0.24</td>\n    </tr>\n  </tbody>\n</table>\n</div>"
     },
     "metadata": {},
     "execution_count": 16
    }
   ],
   "source": [
    "studentmath[['mothereducation','fathereducation']].apply(pd.Series.value_counts,sort=False,normalize=True)"
   ]
  },
  {
   "source": [
    "<h2> Importing SPSS,STata and SAS Data\n"
   ],
   "cell_type": "markdown",
   "metadata": {}
  },
  {
   "cell_type": "code",
   "execution_count": 28,
   "metadata": {},
   "outputs": [],
   "source": [
    "# We use pyreadstat package to read data from the three mentioned statistical packages\n",
    "import pandas as pd \n",
    "import numpy as np \n",
    "import pyreadstat"
   ]
  },
  {
   "cell_type": "code",
   "execution_count": 29,
   "metadata": {},
   "outputs": [],
   "source": [
    "root=tk.Tk()\n",
    "root.withdraw()\n",
    "sav_file=filedialog.askopenfilename(title=\"Browse the required file...\")"
   ]
  },
  {
   "cell_type": "code",
   "execution_count": 30,
   "metadata": {},
   "outputs": [],
   "source": [
    "nls97spss,metaspss=pyreadstat.read_sav(sav_file) # In Stat Files, Metadata has the Column inforrmation the main dataframe columns are not intuitive"
   ]
  },
  {
   "cell_type": "code",
   "execution_count": 31,
   "metadata": {},
   "outputs": [
    {
     "output_type": "execute_result",
     "data": {
      "text/plain": [
       "   R0000100  R0536300  R0536401  R0536402  ...  U2962800  U2962900  U2963000  \\\n",
       "0      1.00      2.00      9.00  1,981.00  ...       nan       nan       nan   \n",
       "1      2.00      1.00      7.00  1,982.00  ...      4.00      2.00      6.00   \n",
       "2      3.00      2.00      9.00  1,983.00  ...      6.00      2.00      6.00   \n",
       "3      4.00      2.00      2.00  1,981.00  ...      3.00      2.00      6.00   \n",
       "4      5.00      1.00     10.00  1,982.00  ...      2.00      2.00      5.00   \n",
       "\n",
       "   Z9063900  \n",
       "0     52.00  \n",
       "1      0.00  \n",
       "2      0.00  \n",
       "3      4.00  \n",
       "4     12.00  \n",
       "\n",
       "[5 rows x 42 columns]"
      ],
      "text/html": "<div>\n<style scoped>\n    .dataframe tbody tr th:only-of-type {\n        vertical-align: middle;\n    }\n\n    .dataframe tbody tr th {\n        vertical-align: top;\n    }\n\n    .dataframe thead th {\n        text-align: right;\n    }\n</style>\n<table border=\"1\" class=\"dataframe\">\n  <thead>\n    <tr style=\"text-align: right;\">\n      <th></th>\n      <th>R0000100</th>\n      <th>R0536300</th>\n      <th>R0536401</th>\n      <th>R0536402</th>\n      <th>...</th>\n      <th>U2962800</th>\n      <th>U2962900</th>\n      <th>U2963000</th>\n      <th>Z9063900</th>\n    </tr>\n  </thead>\n  <tbody>\n    <tr>\n      <th>0</th>\n      <td>1.00</td>\n      <td>2.00</td>\n      <td>9.00</td>\n      <td>1,981.00</td>\n      <td>...</td>\n      <td>nan</td>\n      <td>nan</td>\n      <td>nan</td>\n      <td>52.00</td>\n    </tr>\n    <tr>\n      <th>1</th>\n      <td>2.00</td>\n      <td>1.00</td>\n      <td>7.00</td>\n      <td>1,982.00</td>\n      <td>...</td>\n      <td>4.00</td>\n      <td>2.00</td>\n      <td>6.00</td>\n      <td>0.00</td>\n    </tr>\n    <tr>\n      <th>2</th>\n      <td>3.00</td>\n      <td>2.00</td>\n      <td>9.00</td>\n      <td>1,983.00</td>\n      <td>...</td>\n      <td>6.00</td>\n      <td>2.00</td>\n      <td>6.00</td>\n      <td>0.00</td>\n    </tr>\n    <tr>\n      <th>3</th>\n      <td>4.00</td>\n      <td>2.00</td>\n      <td>2.00</td>\n      <td>1,981.00</td>\n      <td>...</td>\n      <td>3.00</td>\n      <td>2.00</td>\n      <td>6.00</td>\n      <td>4.00</td>\n    </tr>\n    <tr>\n      <th>4</th>\n      <td>5.00</td>\n      <td>1.00</td>\n      <td>10.00</td>\n      <td>1,982.00</td>\n      <td>...</td>\n      <td>2.00</td>\n      <td>2.00</td>\n      <td>5.00</td>\n      <td>12.00</td>\n    </tr>\n  </tbody>\n</table>\n<p>5 rows × 42 columns</p>\n</div>"
     },
     "metadata": {},
     "execution_count": 31
    }
   ],
   "source": [
    "nls97spss.head()"
   ]
  },
  {
   "cell_type": "code",
   "execution_count": 32,
   "metadata": {},
   "outputs": [
    {
     "output_type": "stream",
     "name": "stdout",
     "text": [
      "1.00   0.51\n2.00   0.49\nName: R0536300, dtype: float64\n\n\n Metadata for the column R0536300 is:\n\n{0.0: 'No Information', 1.0: 'Male', 2.0: 'Female'}\n"
     ]
    }
   ],
   "source": [
    "print(nls97spss['R0536300'].value_counts(normalize=True))\n",
    "print(\"\\n\\n Metadata for the column R0536300 is:\\n\")\n",
    "print(metaspss.variable_value_labels['R0536300'])"
   ]
  },
  {
   "cell_type": "code",
   "execution_count": 33,
   "metadata": {},
   "outputs": [
    {
     "output_type": "execute_result",
     "data": {
      "text/plain": [
       "Male      4599\n",
       "Female    4385\n",
       "Name: R0536300, dtype: int64"
      ]
     },
     "metadata": {},
     "execution_count": 33
    }
   ],
   "source": [
    "# Grabbing meta data to improve column labels and value labels. Ensure if the Mapping of the Meta data is correct or not.\n",
    "nls97spss['R0536300'].map(metaspss.variable_value_labels['R0536300']).value_counts()"
   ]
  },
  {
   "cell_type": "code",
   "execution_count": 34,
   "metadata": {},
   "outputs": [
    {
     "output_type": "execute_result",
     "data": {
      "text/plain": [
       "Male     0.51\n",
       "Female   0.49\n",
       "Name: R0536300, dtype: float64"
      ]
     },
     "metadata": {},
     "execution_count": 34
    }
   ],
   "source": [
    "# Normalizing the above\n",
    "nls97spss['R0536300'].map(metaspss.variable_value_labels['R0536300']).value_counts(normalize=True)"
   ]
  },
  {
   "cell_type": "code",
   "execution_count": 35,
   "metadata": {},
   "outputs": [],
   "source": [
    "#Applying the datalabels to the data\n",
    "nls97spss=pyreadstat.set_value_labels(nls97spss,metaspss,formats_as_category=True)"
   ]
  },
  {
   "cell_type": "code",
   "execution_count": 36,
   "metadata": {},
   "outputs": [
    {
     "output_type": "execute_result",
     "data": {
      "text/plain": [
       "   R0000100 R0536300  R0536401  R0536402  ...                 U2962800  \\\n",
       "0      1.00   Female      9.00  1,981.00  ...                      NaN   \n",
       "1      2.00     Male      7.00  1,982.00  ...      4 to 6 hours a week   \n",
       "2      3.00   Female      9.00  1,983.00  ...  10 hours or more a week   \n",
       "3      4.00   Female      2.00  1,981.00  ...      1 to 3 hours a week   \n",
       "4      5.00     Male     10.00  1,982.00  ...  Less than 1 hour a week   \n",
       "\n",
       "               U2962900  U2963000  Z9063900  \n",
       "0                   NaN       nan     52.00  \n",
       "1  3 to 10 hours a week      6.00      0.00  \n",
       "2  3 to 10 hours a week      6.00      0.00  \n",
       "3  3 to 10 hours a week      6.00      4.00  \n",
       "4  3 to 10 hours a week      5.00     12.00  \n",
       "\n",
       "[5 rows x 42 columns]"
      ],
      "text/html": "<div>\n<style scoped>\n    .dataframe tbody tr th:only-of-type {\n        vertical-align: middle;\n    }\n\n    .dataframe tbody tr th {\n        vertical-align: top;\n    }\n\n    .dataframe thead th {\n        text-align: right;\n    }\n</style>\n<table border=\"1\" class=\"dataframe\">\n  <thead>\n    <tr style=\"text-align: right;\">\n      <th></th>\n      <th>R0000100</th>\n      <th>R0536300</th>\n      <th>R0536401</th>\n      <th>R0536402</th>\n      <th>...</th>\n      <th>U2962800</th>\n      <th>U2962900</th>\n      <th>U2963000</th>\n      <th>Z9063900</th>\n    </tr>\n  </thead>\n  <tbody>\n    <tr>\n      <th>0</th>\n      <td>1.00</td>\n      <td>Female</td>\n      <td>9.00</td>\n      <td>1,981.00</td>\n      <td>...</td>\n      <td>NaN</td>\n      <td>NaN</td>\n      <td>nan</td>\n      <td>52.00</td>\n    </tr>\n    <tr>\n      <th>1</th>\n      <td>2.00</td>\n      <td>Male</td>\n      <td>7.00</td>\n      <td>1,982.00</td>\n      <td>...</td>\n      <td>4 to 6 hours a week</td>\n      <td>3 to 10 hours a week</td>\n      <td>6.00</td>\n      <td>0.00</td>\n    </tr>\n    <tr>\n      <th>2</th>\n      <td>3.00</td>\n      <td>Female</td>\n      <td>9.00</td>\n      <td>1,983.00</td>\n      <td>...</td>\n      <td>10 hours or more a week</td>\n      <td>3 to 10 hours a week</td>\n      <td>6.00</td>\n      <td>0.00</td>\n    </tr>\n    <tr>\n      <th>3</th>\n      <td>4.00</td>\n      <td>Female</td>\n      <td>2.00</td>\n      <td>1,981.00</td>\n      <td>...</td>\n      <td>1 to 3 hours a week</td>\n      <td>3 to 10 hours a week</td>\n      <td>6.00</td>\n      <td>4.00</td>\n    </tr>\n    <tr>\n      <th>4</th>\n      <td>5.00</td>\n      <td>Male</td>\n      <td>10.00</td>\n      <td>1,982.00</td>\n      <td>...</td>\n      <td>Less than 1 hour a week</td>\n      <td>3 to 10 hours a week</td>\n      <td>5.00</td>\n      <td>12.00</td>\n    </tr>\n  </tbody>\n</table>\n<p>5 rows × 42 columns</p>\n</div>"
     },
     "metadata": {},
     "execution_count": 36
    }
   ],
   "source": [
    "nls97spss.head()"
   ]
  },
  {
   "cell_type": "code",
   "execution_count": 37,
   "metadata": {},
   "outputs": [
    {
     "output_type": "execute_result",
     "data": {
      "text/plain": [
       "   PUBID - YTH ID CODE 1997 KEY!SEX (SYMBOL) 1997  KEY!BDATE M/Y (SYMBOL) 1997  \\\n",
       "0                      1.00                Female                         9.00   \n",
       "1                      2.00                  Male                         7.00   \n",
       "2                      3.00                Female                         9.00   \n",
       "3                      4.00                Female                         2.00   \n",
       "4                      5.00                  Male                        10.00   \n",
       "\n",
       "   KEY!BDATE M/Y (SYMBOL) 1997  ... HRS/WK R USES A COMPUTER 2017  \\\n",
       "0                     1,981.00  ...                           NaN   \n",
       "1                     1,982.00  ...           4 to 6 hours a week   \n",
       "2                     1,983.00  ...       10 hours or more a week   \n",
       "3                     1,981.00  ...           1 to 3 hours a week   \n",
       "4                     1,982.00  ...       Less than 1 hour a week   \n",
       "\n",
       "  HRS/WK R WATCHES TELEVISION 2017  HRS/NIGHT R SLEEPS 2017  CVC_WKSWK_YR_ALL L99  \n",
       "0                              NaN                      nan                 52.00  \n",
       "1             3 to 10 hours a week                     6.00                  0.00  \n",
       "2             3 to 10 hours a week                     6.00                  0.00  \n",
       "3             3 to 10 hours a week                     6.00                  4.00  \n",
       "4             3 to 10 hours a week                     5.00                 12.00  \n",
       "\n",
       "[5 rows x 42 columns]"
      ],
      "text/html": "<div>\n<style scoped>\n    .dataframe tbody tr th:only-of-type {\n        vertical-align: middle;\n    }\n\n    .dataframe tbody tr th {\n        vertical-align: top;\n    }\n\n    .dataframe thead th {\n        text-align: right;\n    }\n</style>\n<table border=\"1\" class=\"dataframe\">\n  <thead>\n    <tr style=\"text-align: right;\">\n      <th></th>\n      <th>PUBID - YTH ID CODE 1997</th>\n      <th>KEY!SEX (SYMBOL) 1997</th>\n      <th>KEY!BDATE M/Y (SYMBOL) 1997</th>\n      <th>KEY!BDATE M/Y (SYMBOL) 1997</th>\n      <th>...</th>\n      <th>HRS/WK R USES A COMPUTER 2017</th>\n      <th>HRS/WK R WATCHES TELEVISION 2017</th>\n      <th>HRS/NIGHT R SLEEPS 2017</th>\n      <th>CVC_WKSWK_YR_ALL L99</th>\n    </tr>\n  </thead>\n  <tbody>\n    <tr>\n      <th>0</th>\n      <td>1.00</td>\n      <td>Female</td>\n      <td>9.00</td>\n      <td>1,981.00</td>\n      <td>...</td>\n      <td>NaN</td>\n      <td>NaN</td>\n      <td>nan</td>\n      <td>52.00</td>\n    </tr>\n    <tr>\n      <th>1</th>\n      <td>2.00</td>\n      <td>Male</td>\n      <td>7.00</td>\n      <td>1,982.00</td>\n      <td>...</td>\n      <td>4 to 6 hours a week</td>\n      <td>3 to 10 hours a week</td>\n      <td>6.00</td>\n      <td>0.00</td>\n    </tr>\n    <tr>\n      <th>2</th>\n      <td>3.00</td>\n      <td>Female</td>\n      <td>9.00</td>\n      <td>1,983.00</td>\n      <td>...</td>\n      <td>10 hours or more a week</td>\n      <td>3 to 10 hours a week</td>\n      <td>6.00</td>\n      <td>0.00</td>\n    </tr>\n    <tr>\n      <th>3</th>\n      <td>4.00</td>\n      <td>Female</td>\n      <td>2.00</td>\n      <td>1,981.00</td>\n      <td>...</td>\n      <td>1 to 3 hours a week</td>\n      <td>3 to 10 hours a week</td>\n      <td>6.00</td>\n      <td>4.00</td>\n    </tr>\n    <tr>\n      <th>4</th>\n      <td>5.00</td>\n      <td>Male</td>\n      <td>10.00</td>\n      <td>1,982.00</td>\n      <td>...</td>\n      <td>Less than 1 hour a week</td>\n      <td>3 to 10 hours a week</td>\n      <td>5.00</td>\n      <td>12.00</td>\n    </tr>\n  </tbody>\n</table>\n<p>5 rows × 42 columns</p>\n</div>"
     },
     "metadata": {},
     "execution_count": 37
    }
   ],
   "source": [
    "# Applying Column headers to the data\n",
    "nls97spss.columns=metaspss.column_labels\n",
    "nls97spss.head()\n"
   ]
  },
  {
   "cell_type": "code",
   "execution_count": 38,
   "metadata": {},
   "outputs": [
    {
     "output_type": "execute_result",
     "data": {
      "text/plain": [
       "PUBID - YTH ID CODE 1997                        float64\n",
       "KEY!SEX (SYMBOL) 1997                          category\n",
       "KEY!BDATE M/Y (SYMBOL) 1997                     float64\n",
       "KEY!BDATE M/Y (SYMBOL) 1997                     float64\n",
       "CV_SAMPLE_TYPE 1997                            category\n",
       "KEY!RACE_ETHNICITY (SYMBOL) 1997               category\n",
       "TRANS_SAT_VERBAL HSTR                           float64\n",
       "TRANS_SAT_MATH HSTR                             float64\n",
       "TRANS CRD GPA OVERALL HSTR                      float64\n",
       "TRANS CRD GPA ENG HSTR                          float64\n",
       "TRANS CRD GPA MATH HSTR                         float64\n",
       "TRANS CRD GPA LP SCI HSTR                       float64\n",
       "GOVT RESPONSIBILITY - PROVIDE JOBS 2006        category\n",
       "GOVT RESPNSBLTY - KEEP PRICES UND CTRL 2006    category\n",
       "GOVT RESPNSBLTY - HLTH CARE FOR SICK 2006      category\n",
       "GOVT RESPNSBLTY -PROV ELD LIV STAND 2006       category\n",
       "GOVT RESPNSBLTY -PROV IND HELP 2006            category\n",
       "GOVT RESPNSBLTY -PROV UNEMP LIV STAND 2006     category\n",
       "GOVT RESPNSBLTY -REDUCE INC DIFF 2006          category\n",
       "GOVT RESPNSBLTY -PROV COLL FIN AID 2006        category\n",
       "GOVT RESPNSBLTY -PROV DECENT HOUSING 2006      category\n",
       "GOVT RESPNSBLTY -PROTECT ENVIRONMENT 2006      category\n",
       "CV_BA_CREDITS L1 2011                           float64\n",
       "CV_COLLEGE_TYPE L1 2017                        category\n",
       "CV_COLLEGE_TYPE L2 2017                        category\n",
       "CV_COLLEGE_TYPE L3 2017                        category\n",
       "CV_COLLEGE_TYPE L4 2017                        category\n",
       "CV_COLLEGE_TYPE L5 2017                        category\n",
       "CV_COLLEGE_TYPE L6 2017                        category\n",
       "CV_HGC_EVER 2017                               category\n",
       "CV_MARSTAT_COLLAPSED 2017                      category\n",
       "CV_BIO_CHILD_HH 2017                            float64\n",
       "CV_BIO_CHILD_NR 2017                            float64\n",
       "DIPLOMA/DEGREE RCVD? L1 2017                   category\n",
       "DIPLOMA/DEGREE RCVD? L2 2017                   category\n",
       "DIPLOMA/DEGREE RCVD? L3 2017                   category\n",
       "DIPLOMA/DEGREE RCVD? L4 2017                   category\n",
       "EST INC WAGES, TIPS PAST YR 2017               category\n",
       "HRS/WK R USES A COMPUTER 2017                  category\n",
       "HRS/WK R WATCHES TELEVISION 2017               category\n",
       "HRS/NIGHT R SLEEPS 2017                         float64\n",
       "CVC_WKSWK_YR_ALL L99                            float64\n",
       "dtype: object"
      ]
     },
     "metadata": {},
     "execution_count": 38
    }
   ],
   "source": [
    "nls97spss.dtypes"
   ]
  },
  {
   "cell_type": "code",
   "execution_count": 41,
   "metadata": {},
   "outputs": [
    {
     "output_type": "error",
     "ename": "KeyError",
     "evalue": "\"None of ['pubid__yth_id_code_1997'] are in the columns\"",
     "traceback": [
      "\u001b[1;31m---------------------------------------------------------------------------\u001b[0m",
      "\u001b[1;31mKeyError\u001b[0m                                  Traceback (most recent call last)",
      "\u001b[1;32m<ipython-input-41-b57f4b16070f>\u001b[0m in \u001b[0;36m<module>\u001b[1;34m\u001b[0m\n\u001b[0;32m      1\u001b[0m \u001b[0mnls97spss\u001b[0m\u001b[1;33m.\u001b[0m\u001b[0mcolumns\u001b[0m\u001b[1;33m=\u001b[0m\u001b[0mnls97spss\u001b[0m\u001b[1;33m.\u001b[0m\u001b[0mcolumns\u001b[0m\u001b[1;33m.\u001b[0m\u001b[0mstr\u001b[0m\u001b[1;33m.\u001b[0m\u001b[0mlower\u001b[0m\u001b[1;33m(\u001b[0m\u001b[1;33m)\u001b[0m\u001b[1;33m.\u001b[0m\u001b[0mstr\u001b[0m\u001b[1;33m.\u001b[0m\u001b[0mreplace\u001b[0m\u001b[1;33m(\u001b[0m\u001b[1;34m' '\u001b[0m\u001b[1;33m,\u001b[0m\u001b[1;34m'_'\u001b[0m\u001b[1;33m)\u001b[0m\u001b[1;33m.\u001b[0m\u001b[0mstr\u001b[0m\u001b[1;33m.\u001b[0m\u001b[0mreplace\u001b[0m\u001b[1;33m(\u001b[0m\u001b[1;34m'[^a-z0-9_]'\u001b[0m\u001b[1;33m,\u001b[0m\u001b[1;34m\"\"\u001b[0m\u001b[1;33m)\u001b[0m\u001b[1;33m\u001b[0m\u001b[1;33m\u001b[0m\u001b[0m\n\u001b[0;32m      2\u001b[0m \u001b[0mnls97spss\u001b[0m\u001b[1;33m.\u001b[0m\u001b[0mcolumns\u001b[0m\u001b[1;33m=\u001b[0m\u001b[0mnls97spss\u001b[0m\u001b[1;33m.\u001b[0m\u001b[0mcolumns\u001b[0m\u001b[1;33m.\u001b[0m\u001b[0mstr\u001b[0m\u001b[1;33m.\u001b[0m\u001b[0mlower\u001b[0m\u001b[1;33m(\u001b[0m\u001b[1;33m)\u001b[0m\u001b[1;33m.\u001b[0m\u001b[0mstr\u001b[0m\u001b[1;33m.\u001b[0m\u001b[0mreplace\u001b[0m\u001b[1;33m(\u001b[0m\u001b[1;34m'__'\u001b[0m\u001b[1;33m,\u001b[0m\u001b[1;34m'_'\u001b[0m\u001b[1;33m)\u001b[0m\u001b[1;33m\u001b[0m\u001b[1;33m\u001b[0m\u001b[0m\n\u001b[1;32m----> 3\u001b[1;33m \u001b[0mnls97spss\u001b[0m\u001b[1;33m.\u001b[0m\u001b[0mset_index\u001b[0m\u001b[1;33m(\u001b[0m\u001b[1;34m'pubid__yth_id_code_1997'\u001b[0m\u001b[1;33m,\u001b[0m\u001b[0minplace\u001b[0m\u001b[1;33m=\u001b[0m\u001b[1;32mTrue\u001b[0m\u001b[1;33m)\u001b[0m\u001b[1;33m\u001b[0m\u001b[1;33m\u001b[0m\u001b[0m\n\u001b[0m\u001b[0;32m      4\u001b[0m \u001b[0mnls97spss\u001b[0m\u001b[1;33m.\u001b[0m\u001b[0mhead\u001b[0m\u001b[1;33m(\u001b[0m\u001b[1;33m)\u001b[0m\u001b[1;33m\u001b[0m\u001b[1;33m\u001b[0m\u001b[0m\n\u001b[0;32m      5\u001b[0m \u001b[1;31m# Whenever we have set a column to Index nd re-run the same cell again, we get an error as the coloumn is already present as index.\u001b[0m\u001b[1;33m\u001b[0m\u001b[1;33m\u001b[0m\u001b[1;33m\u001b[0m\u001b[0m\n",
      "\u001b[1;32m~\\anaconda3\\lib\\site-packages\\pandas\\core\\frame.py\u001b[0m in \u001b[0;36mset_index\u001b[1;34m(self, keys, drop, append, inplace, verify_integrity)\u001b[0m\n\u001b[0;32m   4301\u001b[0m \u001b[1;33m\u001b[0m\u001b[0m\n\u001b[0;32m   4302\u001b[0m         \u001b[1;32mif\u001b[0m \u001b[0mmissing\u001b[0m\u001b[1;33m:\u001b[0m\u001b[1;33m\u001b[0m\u001b[1;33m\u001b[0m\u001b[0m\n\u001b[1;32m-> 4303\u001b[1;33m             \u001b[1;32mraise\u001b[0m \u001b[0mKeyError\u001b[0m\u001b[1;33m(\u001b[0m\u001b[1;34mf\"None of {missing} are in the columns\"\u001b[0m\u001b[1;33m)\u001b[0m\u001b[1;33m\u001b[0m\u001b[1;33m\u001b[0m\u001b[0m\n\u001b[0m\u001b[0;32m   4304\u001b[0m \u001b[1;33m\u001b[0m\u001b[0m\n\u001b[0;32m   4305\u001b[0m         \u001b[1;32mif\u001b[0m \u001b[0minplace\u001b[0m\u001b[1;33m:\u001b[0m\u001b[1;33m\u001b[0m\u001b[1;33m\u001b[0m\u001b[0m\n",
      "\u001b[1;31mKeyError\u001b[0m: \"None of ['pubid__yth_id_code_1997'] are in the columns\""
     ]
    }
   ],
   "source": [
    "nls97spss.columns=nls97spss.columns.str.lower().str.replace(' ','_').str.replace('[^a-z0-9_]',\"\")\n",
    "# The above line converts the column headers to lower case, replaces ' ' with '_' and replace all no alphanumeric values, excluding '_' with ''\n",
    "nls97spss.set_index('pubid__yth_id_code_1997',inplace=True)\n",
    "nls97spss.head()\n",
    "# Whenever we have set a column to Index nd re-run the same cell again, we get an error as the coloumn is already present as index."
   ]
  },
  {
   "cell_type": "code",
   "execution_count": 43,
   "metadata": {},
   "outputs": [
    {
     "output_type": "execute_result",
     "data": {
      "text/plain": [
       "pubid_yth_id_code_1997                        float64\n",
       "keysex_symbol_1997                           category\n",
       "keybdate_my_symbol_1997                       float64\n",
       "keybdate_my_symbol_1997                       float64\n",
       "cv_sample_type_1997                          category\n",
       "keyrace_ethnicity_symbol_1997                category\n",
       "trans_sat_verbal_hstr                         float64\n",
       "trans_sat_math_hstr                           float64\n",
       "trans_crd_gpa_overall_hstr                    float64\n",
       "trans_crd_gpa_eng_hstr                        float64\n",
       "trans_crd_gpa_math_hstr                       float64\n",
       "trans_crd_gpa_lp_sci_hstr                     float64\n",
       "govt_responsibility_provide_jobs_2006        category\n",
       "govt_respnsblty_keep_prices_und_ctrl_2006    category\n",
       "govt_respnsblty_hlth_care_for_sick_2006      category\n",
       "govt_respnsblty_prov_eld_liv_stand_2006      category\n",
       "govt_respnsblty_prov_ind_help_2006           category\n",
       "govt_respnsblty_prov_unemp_liv_stand_2006    category\n",
       "govt_respnsblty_reduce_inc_diff_2006         category\n",
       "govt_respnsblty_prov_coll_fin_aid_2006       category\n",
       "govt_respnsblty_prov_decent_housing_2006     category\n",
       "govt_respnsblty_protect_environment_2006     category\n",
       "cv_ba_credits_l1_2011                         float64\n",
       "cv_college_type_l1_2017                      category\n",
       "cv_college_type_l2_2017                      category\n",
       "cv_college_type_l3_2017                      category\n",
       "cv_college_type_l4_2017                      category\n",
       "cv_college_type_l5_2017                      category\n",
       "cv_college_type_l6_2017                      category\n",
       "cv_hgc_ever_2017                             category\n",
       "cv_marstat_collapsed_2017                    category\n",
       "cv_bio_child_hh_2017                          float64\n",
       "cv_bio_child_nr_2017                          float64\n",
       "diplomadegree_rcvd_l1_2017                   category\n",
       "diplomadegree_rcvd_l2_2017                   category\n",
       "diplomadegree_rcvd_l3_2017                   category\n",
       "diplomadegree_rcvd_l4_2017                   category\n",
       "est_inc_wages_tips_past_yr_2017              category\n",
       "hrswk_r_uses_a_computer_2017                 category\n",
       "hrswk_r_watches_television_2017              category\n",
       "hrsnight_r_sleeps_2017                        float64\n",
       "cvc_wkswk_yr_all_l99                          float64\n",
       "dtype: object"
      ]
     },
     "metadata": {},
     "execution_count": 43
    }
   ],
   "source": [
    "#Value labels can set to the file while puylling the data itself\n",
    "nls97spss,metaspss=pyreadstat.read_sav(sav_file,apply_value_formats=True,formats_as_category=True)\n",
    "nls97spss.columns=metaspss.column_labels\n",
    "nls97spss.columns=nls97spss.columns.str.lower().str.replace(' ','_').str.replace('[^a-z0-9_]',\"\")\n",
    "nls97spss.columns=nls97spss.columns.str.lower().str.replace('__','_')# Replacing double underscore with single\n",
    "nls97spss.dtypes"
   ]
  },
  {
   "cell_type": "code",
   "execution_count": 45,
   "metadata": {},
   "outputs": [
    {
     "output_type": "stream",
     "name": "stdout",
     "text": [
      "Definitely should be        454\nDefinitely should not be    300\nProbably should be          617\nProbably should not be      462\nName: govt_responsibility_provide_jobs_2006, dtype: int64\n"
     ]
    }
   ],
   "source": [
    "#Running Frequencies on one of the columns and setting Index to the data\n",
    "print(nls97spss.govt_responsibility_provide_jobs_2006.value_counts(sort=False))\n",
    "nls97spss.set_index('pubid_yth_id_code_1997',inplace=True)"
   ]
  },
  {
   "source": [
    "**Importing Stata data**"
   ],
   "cell_type": "markdown",
   "metadata": {}
  },
  {
   "cell_type": "code",
   "execution_count": 49,
   "metadata": {},
   "outputs": [],
   "source": [
    "root.withdraw()\n",
    "dta_file=filedialog.askopenfilename(title=\"Browse the file...\")"
   ]
  },
  {
   "cell_type": "code",
   "execution_count": 51,
   "metadata": {},
   "outputs": [
    {
     "output_type": "execute_result",
     "data": {
      "text/plain": [
       "pubid_yth_id_code_1997                        float64\n",
       "keysex_symbol_1997                           category\n",
       "keybdate_my_symbol_1997                       float64\n",
       "keybdate_my_symbol_1997                       float64\n",
       "cv_sample_type_1997                          category\n",
       "keyrace_ethnicity_symbol_1997                category\n",
       "trans_sat_verbal_hstr                         float64\n",
       "trans_sat_math_hstr                           float64\n",
       "trans_crd_gpa_overall_hstr                    float64\n",
       "trans_crd_gpa_eng_hstr                        float64\n",
       "trans_crd_gpa_math_hstr                       float64\n",
       "trans_crd_gpa_lp_sci_hstr                     float64\n",
       "govt_responsibility_provide_jobs_2006        category\n",
       "govt_respnsblty_keep_prices_und_ctrl_2006    category\n",
       "govt_respnsblty_hlth_care_for_sick_2006      category\n",
       "govt_respnsblty_prov_eld_liv_stand_2006      category\n",
       "govt_respnsblty_prov_ind_help_2006           category\n",
       "govt_respnsblty_prov_unemp_liv_stand_2006    category\n",
       "govt_respnsblty_reduce_inc_diff_2006         category\n",
       "govt_respnsblty_prov_coll_fin_aid_2006       category\n",
       "govt_respnsblty_prov_decent_housing_2006     category\n",
       "govt_respnsblty_protect_environment_2006     category\n",
       "cv_ba_credits_l1_2011                         float64\n",
       "cv_college_type_l1_2017                      category\n",
       "cv_college_type_l2_2017                      category\n",
       "cv_college_type_l3_2017                      category\n",
       "cv_college_type_l4_2017                      category\n",
       "cv_college_type_l5_2017                      category\n",
       "cv_college_type_l6_2017                      category\n",
       "cv_hgc_ever_2017                             category\n",
       "cv_marstat_collapsed_2017                    category\n",
       "cv_bio_child_hh_2017                          float64\n",
       "cv_bio_child_nr_2017                          float64\n",
       "diplomadegree_rcvd_l1_2017                   category\n",
       "diplomadegree_rcvd_l2_2017                   category\n",
       "diplomadegree_rcvd_l3_2017                   category\n",
       "diplomadegree_rcvd_l4_2017                   category\n",
       "est_inc_wages_tips_past_yr_2017              category\n",
       "hrswk_r_uses_a_computer_2017                 category\n",
       "hrswk_r_watches_television_2017              category\n",
       "hrsnight_r_sleeps_2017                        float64\n",
       "cvc_wkswk_yr_all_l99                          float64\n",
       "dtype: object"
      ]
     },
     "metadata": {},
     "execution_count": 51
    }
   ],
   "source": [
    "# Reading the dat file, applying the data value formats using the metafile , renaming the columns\n",
    "nlss97stata,metastata=pyreadstat.read_dta(dta_file,apply_value_formats=True,formats_as_category=True)\n",
    "nlss97stata.columns=metastata.column_labels\n",
    "nlss97stata.columns=nlss97stata.columns.str.lower().str.replace(' ','_').str.replace('[^a-z0-9_]','')\n",
    "nlss97stata.columns=nlss97stata.columns.str.replace('__','_') # Replacing double underscore in the headers with single underscore\n",
    "nlss97stata.dtypes"
   ]
  },
  {
   "cell_type": "code",
   "execution_count": 52,
   "metadata": {},
   "outputs": [
    {
     "output_type": "execute_result",
     "data": {
      "text/plain": [
       "   pubid_yth_id_code_1997 keysex_symbol_1997  keybdate_my_symbol_1997  \\\n",
       "0                    1.00             Female                     9.00   \n",
       "1                    2.00               Male                     7.00   \n",
       "2                    3.00             Female                     9.00   \n",
       "3                    4.00             Female                     2.00   \n",
       "4                    5.00               Male                    10.00   \n",
       "\n",
       "   keybdate_my_symbol_1997  ... hrswk_r_uses_a_computer_2017  \\\n",
       "0                 1,981.00  ...                        -5.00   \n",
       "1                 1,982.00  ...          4 to 6 hours a week   \n",
       "2                 1,983.00  ...      10 hours or more a week   \n",
       "3                 1,981.00  ...          1 to 3 hours a week   \n",
       "4                 1,982.00  ...      Less than 1 hour a week   \n",
       "\n",
       "  hrswk_r_watches_television_2017  hrsnight_r_sleeps_2017  cvc_wkswk_yr_all_l99  \n",
       "0                           -5.00                   -5.00                 52.00  \n",
       "1            3 to 10 hours a week                    6.00                  0.00  \n",
       "2            3 to 10 hours a week                    6.00                  0.00  \n",
       "3            3 to 10 hours a week                    6.00                  4.00  \n",
       "4            3 to 10 hours a week                    5.00                 12.00  \n",
       "\n",
       "[5 rows x 42 columns]"
      ],
      "text/html": "<div>\n<style scoped>\n    .dataframe tbody tr th:only-of-type {\n        vertical-align: middle;\n    }\n\n    .dataframe tbody tr th {\n        vertical-align: top;\n    }\n\n    .dataframe thead th {\n        text-align: right;\n    }\n</style>\n<table border=\"1\" class=\"dataframe\">\n  <thead>\n    <tr style=\"text-align: right;\">\n      <th></th>\n      <th>pubid_yth_id_code_1997</th>\n      <th>keysex_symbol_1997</th>\n      <th>keybdate_my_symbol_1997</th>\n      <th>keybdate_my_symbol_1997</th>\n      <th>...</th>\n      <th>hrswk_r_uses_a_computer_2017</th>\n      <th>hrswk_r_watches_television_2017</th>\n      <th>hrsnight_r_sleeps_2017</th>\n      <th>cvc_wkswk_yr_all_l99</th>\n    </tr>\n  </thead>\n  <tbody>\n    <tr>\n      <th>0</th>\n      <td>1.00</td>\n      <td>Female</td>\n      <td>9.00</td>\n      <td>1,981.00</td>\n      <td>...</td>\n      <td>-5.00</td>\n      <td>-5.00</td>\n      <td>-5.00</td>\n      <td>52.00</td>\n    </tr>\n    <tr>\n      <th>1</th>\n      <td>2.00</td>\n      <td>Male</td>\n      <td>7.00</td>\n      <td>1,982.00</td>\n      <td>...</td>\n      <td>4 to 6 hours a week</td>\n      <td>3 to 10 hours a week</td>\n      <td>6.00</td>\n      <td>0.00</td>\n    </tr>\n    <tr>\n      <th>2</th>\n      <td>3.00</td>\n      <td>Female</td>\n      <td>9.00</td>\n      <td>1,983.00</td>\n      <td>...</td>\n      <td>10 hours or more a week</td>\n      <td>3 to 10 hours a week</td>\n      <td>6.00</td>\n      <td>0.00</td>\n    </tr>\n    <tr>\n      <th>3</th>\n      <td>4.00</td>\n      <td>Female</td>\n      <td>2.00</td>\n      <td>1,981.00</td>\n      <td>...</td>\n      <td>1 to 3 hours a week</td>\n      <td>3 to 10 hours a week</td>\n      <td>6.00</td>\n      <td>4.00</td>\n    </tr>\n    <tr>\n      <th>4</th>\n      <td>5.00</td>\n      <td>Male</td>\n      <td>10.00</td>\n      <td>1,982.00</td>\n      <td>...</td>\n      <td>Less than 1 hour a week</td>\n      <td>3 to 10 hours a week</td>\n      <td>5.00</td>\n      <td>12.00</td>\n    </tr>\n  </tbody>\n</table>\n<p>5 rows × 42 columns</p>\n</div>"
     },
     "metadata": {},
     "execution_count": 52
    }
   ],
   "source": [
    "nlss97stata.head()"
   ]
  },
  {
   "cell_type": "code",
   "execution_count": 53,
   "metadata": {},
   "outputs": [
    {
     "output_type": "execute_result",
     "data": {
      "text/plain": [
       "-5.0                        1425\n",
       "-4.0                        5665\n",
       "-2.0                          56\n",
       "-1.0                           5\n",
       "Definitely should be         454\n",
       "Definitely should not be     300\n",
       "Probably should be           617\n",
       "Probably should not be       462\n",
       "Name: govt_responsibility_provide_jobs_2006, dtype: int64"
      ]
     },
     "metadata": {},
     "execution_count": 53
    }
   ],
   "source": [
    "# Checking the value Counts in the column govt_Responsibility _provide_jobs_2006\n",
    "nlss97stata.govt_responsibility_provide_jobs_2006.value_counts(sort=False)"
   ]
  },
  {
   "cell_type": "code",
   "execution_count": 54,
   "metadata": {},
   "outputs": [
    {
     "output_type": "execute_result",
     "data": {
      "text/plain": [
       "pubid_yth_id_code_1997                      1.00\n",
       "keysex_symbol_1997                        Female\n",
       "keybdate_my_symbol_1997                     1.00\n",
       "keybdate_my_symbol_1997                 1,980.00\n",
       "cv_sample_type_1997              Cross-sectional\n",
       "keyrace_ethnicity_symbol_1997              Black\n",
       "trans_sat_verbal_hstr                      -4.00\n",
       "trans_sat_math_hstr                        -4.00\n",
       "trans_crd_gpa_overall_hstr                 -9.00\n",
       "trans_crd_gpa_eng_hstr                     -9.00\n",
       "trans_crd_gpa_math_hstr                    -9.00\n",
       "trans_crd_gpa_lp_sci_hstr                  -9.00\n",
       "cv_ba_credits_l1_2011                      -5.00\n",
       "cv_bio_child_hh_2017                       -5.00\n",
       "cv_bio_child_nr_2017                       -5.00\n",
       "hrsnight_r_sleeps_2017                     -5.00\n",
       "cvc_wkswk_yr_all_l99                       -4.00\n",
       "dtype: object"
      ]
     },
     "metadata": {},
     "execution_count": 54
    }
   ],
   "source": [
    "# In the above result there are few unwanted values that are marked with negative numbers. Fixing the missing logical values\n",
    "nlss97stata.min()       # Checking the minimum values in each column"
   ]
  },
  {
   "cell_type": "code",
   "execution_count": 56,
   "metadata": {},
   "outputs": [
    {
     "output_type": "execute_result",
     "data": {
      "text/plain": [
       "pubid_yth_id_code_1997                      1.00\n",
       "keysex_symbol_1997                        Female\n",
       "keybdate_my_symbol_1997                     1.00\n",
       "keybdate_my_symbol_1997                 1,980.00\n",
       "cv_sample_type_1997              Cross-sectional\n",
       "keyrace_ethnicity_symbol_1997              Black\n",
       "trans_sat_verbal_hstr                      14.00\n",
       "trans_sat_math_hstr                         7.00\n",
       "trans_crd_gpa_overall_hstr                 10.00\n",
       "trans_crd_gpa_eng_hstr                      0.00\n",
       "trans_crd_gpa_math_hstr                     0.00\n",
       "trans_crd_gpa_lp_sci_hstr                   0.00\n",
       "cv_ba_credits_l1_2011                       0.00\n",
       "cv_bio_child_hh_2017                        0.00\n",
       "cv_bio_child_nr_2017                        0.00\n",
       "hrsnight_r_sleeps_2017                      0.00\n",
       "cvc_wkswk_yr_all_l99                        0.00\n",
       "dtype: object"
      ]
     },
     "metadata": {},
     "execution_count": 56
    }
   ],
   "source": [
    "# Replacing the negative values with NULL values\n",
    "nlss97stata.replace(list(range(-9,0)),np.NaN,inplace=True) # list(range(-9,0)) creates a list of values from -9 to -1. We are replace all values from -9 to -1 with NULL\n",
    "nlss97stata.min()"
   ]
  },
  {
   "cell_type": "code",
   "execution_count": 57,
   "metadata": {},
   "outputs": [],
   "source": [
    "# Setting Index to the dataframe\n",
    "nlss97stata.set_index('pubid_yth_id_code_1997',inplace=True)"
   ]
  },
  {
   "source": [
    "**IMPORTING SAS DATA**"
   ],
   "cell_type": "markdown",
   "metadata": {}
  },
  {
   "cell_type": "code",
   "execution_count": 58,
   "metadata": {},
   "outputs": [],
   "source": [
    "root.withdraw()\n",
    "sas_file=filedialog.askopenfilename(title=\"Browse the bdat file\")\n",
    "cat_file=filedialog.askopenfilename(title=\"Browse the bcat file\")"
   ]
  },
  {
   "cell_type": "code",
   "execution_count": 60,
   "metadata": {},
   "outputs": [
    {
     "output_type": "execute_result",
     "data": {
      "text/plain": [
       "   pubid_yth_id_code_1997 keysex_symbol_1997  keybdate_my_symbol_1997  \\\n",
       "0                    1.00             Female                     9.00   \n",
       "1                    2.00               Male                     7.00   \n",
       "2                    3.00             Female                     9.00   \n",
       "3                    4.00             Female                     2.00   \n",
       "4                    5.00               Male                    10.00   \n",
       "\n",
       "   keybdate_my_symbol_1997  ... hrswk_r_uses_a_computer_2017  \\\n",
       "0                 1,981.00  ...                          NaN   \n",
       "1                 1,982.00  ...          4 to 6 hours a week   \n",
       "2                 1,983.00  ...      10 hours or more a week   \n",
       "3                 1,981.00  ...          1 to 3 hours a week   \n",
       "4                 1,982.00  ...      Less than 1 hour a week   \n",
       "\n",
       "  hrswk_r_watches_television_2017  hrsnight_r_sleeps_2017  cvc_wkswk_yr_all_l99  \n",
       "0                             NaN                     nan                 52.00  \n",
       "1            3 to 10 hours a week                    6.00                  0.00  \n",
       "2            3 to 10 hours a week                    6.00                  0.00  \n",
       "3            3 to 10 hours a week                    6.00                  4.00  \n",
       "4            3 to 10 hours a week                    5.00                 12.00  \n",
       "\n",
       "[5 rows x 42 columns]"
      ],
      "text/html": "<div>\n<style scoped>\n    .dataframe tbody tr th:only-of-type {\n        vertical-align: middle;\n    }\n\n    .dataframe tbody tr th {\n        vertical-align: top;\n    }\n\n    .dataframe thead th {\n        text-align: right;\n    }\n</style>\n<table border=\"1\" class=\"dataframe\">\n  <thead>\n    <tr style=\"text-align: right;\">\n      <th></th>\n      <th>pubid_yth_id_code_1997</th>\n      <th>keysex_symbol_1997</th>\n      <th>keybdate_my_symbol_1997</th>\n      <th>keybdate_my_symbol_1997</th>\n      <th>...</th>\n      <th>hrswk_r_uses_a_computer_2017</th>\n      <th>hrswk_r_watches_television_2017</th>\n      <th>hrsnight_r_sleeps_2017</th>\n      <th>cvc_wkswk_yr_all_l99</th>\n    </tr>\n  </thead>\n  <tbody>\n    <tr>\n      <th>0</th>\n      <td>1.00</td>\n      <td>Female</td>\n      <td>9.00</td>\n      <td>1,981.00</td>\n      <td>...</td>\n      <td>NaN</td>\n      <td>NaN</td>\n      <td>nan</td>\n      <td>52.00</td>\n    </tr>\n    <tr>\n      <th>1</th>\n      <td>2.00</td>\n      <td>Male</td>\n      <td>7.00</td>\n      <td>1,982.00</td>\n      <td>...</td>\n      <td>4 to 6 hours a week</td>\n      <td>3 to 10 hours a week</td>\n      <td>6.00</td>\n      <td>0.00</td>\n    </tr>\n    <tr>\n      <th>2</th>\n      <td>3.00</td>\n      <td>Female</td>\n      <td>9.00</td>\n      <td>1,983.00</td>\n      <td>...</td>\n      <td>10 hours or more a week</td>\n      <td>3 to 10 hours a week</td>\n      <td>6.00</td>\n      <td>0.00</td>\n    </tr>\n    <tr>\n      <th>3</th>\n      <td>4.00</td>\n      <td>Female</td>\n      <td>2.00</td>\n      <td>1,981.00</td>\n      <td>...</td>\n      <td>1 to 3 hours a week</td>\n      <td>3 to 10 hours a week</td>\n      <td>6.00</td>\n      <td>4.00</td>\n    </tr>\n    <tr>\n      <th>4</th>\n      <td>5.00</td>\n      <td>Male</td>\n      <td>10.00</td>\n      <td>1,982.00</td>\n      <td>...</td>\n      <td>Less than 1 hour a week</td>\n      <td>3 to 10 hours a week</td>\n      <td>5.00</td>\n      <td>12.00</td>\n    </tr>\n  </tbody>\n</table>\n<p>5 rows × 42 columns</p>\n</div>"
     },
     "metadata": {},
     "execution_count": 60
    }
   ],
   "source": [
    "nls97sas,metasas =pyreadstat.read_sas7bdat(sas_file,catalog_file=cat_file,formats_as_category=True)\n",
    "nls97sas.columns=metasas.column_labels\n",
    "nls97sas.columns=nls97sas.columns.str.lower().str.replace(' ','_').str.replace('[^a-z0-9_]','')\n",
    "nls97sas.columns=nls97sas.columns.str.replace('__','_') # Replacing double underscore in the headers with single underscore\n",
    "nls97sas.head()"
   ]
  },
  {
   "cell_type": "code",
   "execution_count": 61,
   "metadata": {},
   "outputs": [
    {
     "output_type": "execute_result",
     "data": {
      "text/plain": [
       "Male      4599\n",
       "Female    4385\n",
       "Name: keysex_symbol_1997, dtype: int64"
      ]
     },
     "metadata": {},
     "execution_count": 61
    }
   ],
   "source": [
    "nls97sas.keysex_symbol_1997.value_counts()"
   ]
  },
  {
   "cell_type": "code",
   "execution_count": null,
   "metadata": {},
   "outputs": [],
   "source": []
  }
 ]
}